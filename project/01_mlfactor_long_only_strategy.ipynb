{
 "cells": [
  {
   "cell_type": "markdown",
   "id": "1638b336-6f02-4578-9aea-871284c81bbb",
   "metadata": {},
   "source": [
    "# Long-Only Strategy using MLFactor Data"
   ]
  },
  {
   "cell_type": "markdown",
   "id": "93acde8b-00a4-45a1-88e9-5f39d8c49ffe",
   "metadata": {},
   "source": [
    "In this project you will use the MLFactor data to formulate a trading strategy that you will backtest.\n",
    "\n",
    "The training data consists of monthly snapshots of variety of fundamental (factor) measurements of a varying number of stocks through time.  These factor measurements will be your features.  The label is a binary variable that indicates whether the stock's return over the next month was above or below the median return - thus we are reducing our problem to one of binary classification.  The training set has data from 2000-2013.  You will be fitting a predictive model to this data.\n",
    "\n",
    "The testing data consists of the same features for 2014-2018.  It also contains the forward looking one-month return that the stock experienced after the factor snapshot.  You will use the model that you fit using the training data to formulate a long-only strategy on the testing data, and then backtest that strategy.  Your trading strategy will rebalance monthly.  **Note:** You cannot use the one-month returns in the testing data for your decisions regarding which securities to take positions in (that's like looking into the future); you should only use inferences from the model you fit on the trading data.\n",
    "\n",
    "This project will involve hyperparameter tuning which can take a long time, so start early. If you have access to a GPU, using it will speed up the process substantially for **xgboost**."
   ]
  },
  {
   "cell_type": "markdown",
   "id": "37ba961f-3d80-4b2b-b8d0-e92cec3d9a3c",
   "metadata": {},
   "source": [
    "**Coding and Analysis (Jupyter Notebooks) -- 200 pts**"
   ]
  },
  {
   "cell_type": "markdown",
   "id": "c3a1ce4d-f36a-40f2-9f01-da35b7073564",
   "metadata": {},
   "source": [
    "1. Perform feature selection where you choose 30-40 features to include in your models.  You will fit your model to both your selected subset as well as the full feature set.\n",
    "\n",
    "2. You will use three different classifiers: `LogisticRegression`, `RandomForestClassifier`, `XGBClassifier`\n",
    "\n",
    "3. For each classifier, you will tune 3 hyperparameters; use `GridSearchCV` to do an exhaustive grid search to find the optimal combination of the three hyperparameters. Use accuracy, precision, recall, and ROC-AUC as your scoring metrics. Use 5-fold cross validation.\n",
    "\n",
    "    - Tune the models using both your chosen subset of features, as well as the full feature set.\n",
    "    -  Do you notice much of a difference in the optimal parameters when using all the features versus when using the feature subset?\n",
    "\n",
    "\n",
    "5. After you have choose the optimal hyperparameters from #3, fit the models to your full data set.  You will have six different models:\n",
    "    - `LogisticRegression` + feature subset\n",
    "    - `LogisticRegression` + all features\n",
    "    - `RandomForestClassifier` + feature subset\n",
    "    - `RadomForestClassifier` + all features\n",
    "    - `XGBClassifier` + feature subset\n",
    "    - `XGBClassifier` + all features\n",
    "\n",
    "\n",
    "6. Using your six different fitted models, create trading strategies and backtest them on the testing data.  Ideally, it will be the same basic strategy, just using the different models for generating the signal to hold a stock or not.  Compare your six models/strategies to each other as well as to the *benchmark* strategy of going long the market in an equally weighted portfolio.  Include the following metrics in your analysis of your strategies:\n",
    "\n",
    "    - annualized return\n",
    "    - annualized portfolio volatility\n",
    "    - sharpe ratio: $\\mu/\\sigma * \\sqrt{12}$ where $\\mu$ is the average monthly return and $\\sigma$ is the monthly portfolio volatility\n",
    "    - maximum draw-down\n",
    "    - worst month\n",
    "\n",
    "7. Make a conclusion about which model and feature set that you would use to inform your trading strategy.\n",
    "    \n",
    "\n",
    "**Grading Rubric:**\n",
    "- accuracy of results: 100 pts\n",
    "- code commenting: 50 pts\n",
    "- readability of notebook: 50 pts"
   ]
  },
  {
   "cell_type": "markdown",
   "id": "15d0b4ff-7b5d-4cf3-883a-36bb191b0607",
   "metadata": {},
   "source": [
    "**Presentation -- 100 pts**\n",
    "\n",
    "1. Create a slide presentation.\n",
    "\n",
    "2. Give a mildly technical overview of the **xgboost** package.\n",
    "\n",
    "3. Describe your feature selection process.\n",
    "\n",
    "4. Talk about the hyperparameters that you chose for each model and why you chose them.  Do you notice much of a difference in the optimal parameters when using all the features versus when using the feature subset?\n",
    "\n",
    "5. Present the results of your backtest results.\n",
    "    - Which model/feature set would you use to trade your strategy?\n",
    "    - Did feature selection seem to help?\n",
    "    - Do you notice any relationship between your training cross-validation fit scores and strategy performance on the test set?\n",
    "\n",
    "Your presentation should be about 15 minutes and include visualizations."
   ]
  }
 ],
 "metadata": {
  "kernelspec": {
   "display_name": "python3",
   "language": "python",
   "name": "python3"
  }
 },
 "nbformat": 4,
 "nbformat_minor": 5
}
