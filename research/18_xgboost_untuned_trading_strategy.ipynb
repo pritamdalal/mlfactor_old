{
 "cells": [
  {
   "cell_type": "markdown",
   "id": "ab15e39b-f1a0-4ffa-a746-9992e1a49a98",
   "metadata": {},
   "source": [
    "## Importing Packages"
   ]
  },
  {
   "cell_type": "code",
   "execution_count": null,
   "id": "75d6cb8c-7342-4e74-938a-ca2809fd2551",
   "metadata": {},
   "outputs": [],
   "source": [
    "import numpy as np\n",
    "import pandas as pd"
   ]
  },
  {
   "cell_type": "markdown",
   "id": "71b77ded-ed8f-4470-b2ae-1eca136793b2",
   "metadata": {},
   "source": [
    "## Reading and Separating Data"
   ]
  },
  {
   "cell_type": "code",
   "execution_count": null,
   "id": "6287ab34-ee32-4dfa-847d-f65a48a4323f",
   "metadata": {},
   "outputs": [],
   "source": [
    "df_ml = pd.read_csv(\"../data/data_ml.csv\")"
   ]
  },
  {
   "cell_type": "code",
   "execution_count": null,
   "id": "7f1d898f-0a14-4906-964a-60ecd4f103eb",
   "metadata": {},
   "outputs": [],
   "source": [
    "separation_date = \"2013-12-31\"\n",
    "df_train = df_ml.query(\"date < @separation_date\").copy()\n",
    "df_test = df_ml.query(\"@separation_date <= date & date < '2018-12-31'\").copy()"
   ]
  },
  {
   "cell_type": "code",
   "execution_count": null,
   "id": "638e46fc-f4ab-408e-a017-17b9c6881102",
   "metadata": {},
   "outputs": [],
   "source": [
    "columns_to_drop = [\n",
    "    \"stock_id\", \"date\", # non-feature identifiers\n",
    "    \"R1M_Usd\", \"R3M_Usd\", \"R6M_Usd\", \"R12M_Usd\", # numerical labels\n",
    "    \"R1M_Usd_C\", \"R12M_Usd_C\" # categorical labels\n",
    "]\n",
    "\n",
    "features = list(df_ml.drop(columns=columns_to_drop).columns)"
   ]
  },
  {
   "cell_type": "code",
   "execution_count": null,
   "id": "9117e30a-1520-4d52-a883-e69af959d3ac",
   "metadata": {},
   "outputs": [],
   "source": [
    "X_train = df_train[features]\n",
    "y_train = df_train[\"R1M_Usd_C\"]"
   ]
  },
  {
   "cell_type": "code",
   "execution_count": null,
   "id": "3eb7ba03-fa52-4b89-a1d2-4b998243e08d",
   "metadata": {},
   "outputs": [],
   "source": [
    "X_test = df_test[features]\n",
    "y_test = df_test[\"R1M_Usd_C\"]"
   ]
  },
  {
   "cell_type": "code",
   "execution_count": null,
   "id": "f08f9a6e-bd22-44da-846c-3e516d384c3f",
   "metadata": {},
   "outputs": [],
   "source": [
    "df_features_selected = pd.read_csv(\"../data/features_selected.csv\")\n",
    "features_selected = list(df_features_selected[\"feature\"].values)"
   ]
  },
  {
   "cell_type": "markdown",
   "id": "362399da-cb03-41d2-b7f0-59afcfe035c8",
   "metadata": {},
   "source": [
    "## Backtesting Equally Weighted Market Portfolio"
   ]
  },
  {
   "cell_type": "code",
   "execution_count": null,
   "id": "8cbf17e3-76fd-4a1b-94f5-b1a7c71de371",
   "metadata": {},
   "outputs": [],
   "source": [
    "df_market = df_test[[\"date\", \"R1M_Usd\"]].copy().reset_index(drop=True)"
   ]
  },
  {
   "cell_type": "code",
   "execution_count": null,
   "id": "f7226fd4-cdf5-46e7-9393-5a59d0508fbc",
   "metadata": {},
   "outputs": [],
   "source": [
    "df_market_monthly_returns = df_market.groupby([\"date\"])[[\"R1M_Usd\"]].mean().reset_index()\n",
    "df_market_monthly_returns['growth_factor'] = 1 + df_market_monthly_returns['R1M_Usd']\n",
    "df_market_monthly_returns['equity_curve'] = df_market_monthly_returns['growth_factor'].cumprod()"
   ]
  },
  {
   "cell_type": "code",
   "execution_count": null,
   "id": "f896aced-17e1-48f1-ab62-9585ca80f9e0",
   "metadata": {},
   "outputs": [
    {
     "data": {
      "text/plain": [
       "0.08005470346536026"
      ]
     },
     "execution_count": null,
     "metadata": {},
     "output_type": "execute_result"
    }
   ],
   "source": [
    "((df_market_monthly_returns['equity_curve'].iloc[-1]) ** (12 / len(df_market_monthly_returns))) - 1"
   ]
  },
  {
   "cell_type": "code",
   "execution_count": null,
   "id": "6ed49c6a-43a8-45cb-93fc-ce12fba1d2c1",
   "metadata": {},
   "outputs": [
    {
     "data": {
      "text/plain": [
       "0.633808935267311"
      ]
     },
     "execution_count": null,
     "metadata": {},
     "output_type": "execute_result"
    }
   ],
   "source": [
    "(df_market_monthly_returns[\"R1M_Usd\"].mean() / df_market_monthly_returns[\"R1M_Usd\"].std()) * np.sqrt(12)"
   ]
  },
  {
   "cell_type": "markdown",
   "id": "9fd5578e-73c3-4c68-a8d0-fbafbf7e844e",
   "metadata": {},
   "source": [
    "## Backtesting Hard Predictions Strategy with All Features"
   ]
  },
  {
   "cell_type": "code",
   "execution_count": null,
   "id": "16ba5dec-cd6f-4e1d-922f-a019925353a2",
   "metadata": {},
   "outputs": [],
   "source": [
    "df_hard_predictions = df_test[[\"date\", \"R1M_Usd\"]].copy().reset_index(drop=True)"
   ]
  },
  {
   "cell_type": "code",
   "execution_count": null,
   "id": "533927f5-4981-47ac-8c23-7b05fac07b48",
   "metadata": {},
   "outputs": [],
   "source": [
    "df_inferences_all_features = pd.read_csv(\"../data/inference_xgboost_untuned_all_features.csv\")"
   ]
  },
  {
   "cell_type": "code",
   "execution_count": null,
   "id": "29c86187-ba0e-4961-8042-c8525a204fd9",
   "metadata": {},
   "outputs": [
    {
     "data": {
      "text/html": [
       "<div>\n",
       "<style scoped>\n",
       "    .dataframe tbody tr th:only-of-type {\n",
       "        vertical-align: middle;\n",
       "    }\n",
       "\n",
       "    .dataframe tbody tr th {\n",
       "        vertical-align: top;\n",
       "    }\n",
       "\n",
       "    .dataframe thead th {\n",
       "        text-align: right;\n",
       "    }\n",
       "</style>\n",
       "<table border=\"1\" class=\"dataframe\">\n",
       "  <thead>\n",
       "    <tr style=\"text-align: right;\">\n",
       "      <th></th>\n",
       "      <th>date</th>\n",
       "      <th>R1M_Usd</th>\n",
       "      <th>hard</th>\n",
       "      <th>probability_0</th>\n",
       "      <th>probability_1</th>\n",
       "    </tr>\n",
       "  </thead>\n",
       "  <tbody>\n",
       "    <tr>\n",
       "      <th>0</th>\n",
       "      <td>2015-03-31</td>\n",
       "      <td>0.174</td>\n",
       "      <td>1</td>\n",
       "      <td>0.443008</td>\n",
       "      <td>0.556992</td>\n",
       "    </tr>\n",
       "    <tr>\n",
       "      <th>1</th>\n",
       "      <td>2015-04-30</td>\n",
       "      <td>-0.106</td>\n",
       "      <td>1</td>\n",
       "      <td>0.407426</td>\n",
       "      <td>0.592574</td>\n",
       "    </tr>\n",
       "    <tr>\n",
       "      <th>2</th>\n",
       "      <td>2015-05-31</td>\n",
       "      <td>-0.185</td>\n",
       "      <td>1</td>\n",
       "      <td>0.417241</td>\n",
       "      <td>0.582759</td>\n",
       "    </tr>\n",
       "    <tr>\n",
       "      <th>3</th>\n",
       "      <td>2015-06-30</td>\n",
       "      <td>-0.418</td>\n",
       "      <td>1</td>\n",
       "      <td>0.392114</td>\n",
       "      <td>0.607886</td>\n",
       "    </tr>\n",
       "    <tr>\n",
       "      <th>4</th>\n",
       "      <td>2015-07-31</td>\n",
       "      <td>0.575</td>\n",
       "      <td>1</td>\n",
       "      <td>0.392114</td>\n",
       "      <td>0.607886</td>\n",
       "    </tr>\n",
       "    <tr>\n",
       "      <th>...</th>\n",
       "      <td>...</td>\n",
       "      <td>...</td>\n",
       "      <td>...</td>\n",
       "      <td>...</td>\n",
       "      <td>...</td>\n",
       "    </tr>\n",
       "    <tr>\n",
       "      <th>70484</th>\n",
       "      <td>2018-07-31</td>\n",
       "      <td>0.028</td>\n",
       "      <td>1</td>\n",
       "      <td>0.479271</td>\n",
       "      <td>0.520729</td>\n",
       "    </tr>\n",
       "    <tr>\n",
       "      <th>70485</th>\n",
       "      <td>2018-08-31</td>\n",
       "      <td>-0.101</td>\n",
       "      <td>0</td>\n",
       "      <td>0.513952</td>\n",
       "      <td>0.486048</td>\n",
       "    </tr>\n",
       "    <tr>\n",
       "      <th>70486</th>\n",
       "      <td>2018-09-30</td>\n",
       "      <td>0.013</td>\n",
       "      <td>1</td>\n",
       "      <td>0.483383</td>\n",
       "      <td>0.516617</td>\n",
       "    </tr>\n",
       "    <tr>\n",
       "      <th>70487</th>\n",
       "      <td>2018-10-31</td>\n",
       "      <td>0.039</td>\n",
       "      <td>1</td>\n",
       "      <td>0.477990</td>\n",
       "      <td>0.522010</td>\n",
       "    </tr>\n",
       "    <tr>\n",
       "      <th>70488</th>\n",
       "      <td>2018-11-30</td>\n",
       "      <td>-0.151</td>\n",
       "      <td>0</td>\n",
       "      <td>0.507691</td>\n",
       "      <td>0.492309</td>\n",
       "    </tr>\n",
       "  </tbody>\n",
       "</table>\n",
       "<p>70489 rows × 5 columns</p>\n",
       "</div>"
      ],
      "text/plain": [
       "             date  R1M_Usd  hard  probability_0  probability_1\n",
       "0      2015-03-31    0.174     1       0.443008       0.556992\n",
       "1      2015-04-30   -0.106     1       0.407426       0.592574\n",
       "2      2015-05-31   -0.185     1       0.417241       0.582759\n",
       "3      2015-06-30   -0.418     1       0.392114       0.607886\n",
       "4      2015-07-31    0.575     1       0.392114       0.607886\n",
       "...           ...      ...   ...            ...            ...\n",
       "70484  2018-07-31    0.028     1       0.479271       0.520729\n",
       "70485  2018-08-31   -0.101     0       0.513952       0.486048\n",
       "70486  2018-09-30    0.013     1       0.483383       0.516617\n",
       "70487  2018-10-31    0.039     1       0.477990       0.522010\n",
       "70488  2018-11-30   -0.151     0       0.507691       0.492309\n",
       "\n",
       "[70489 rows x 5 columns]"
      ]
     },
     "execution_count": null,
     "metadata": {},
     "output_type": "execute_result"
    }
   ],
   "source": [
    "df_hard_predictions = pd.concat([df_hard_predictions, df_inferences_all_features], axis=1)\n",
    "df_hard_predictions"
   ]
  },
  {
   "cell_type": "code",
   "execution_count": null,
   "id": "65cf3385-de4b-4ce6-9126-bf408fe71573",
   "metadata": {},
   "outputs": [],
   "source": [
    "df_hard_predictions_all_features_monthly_returns = df_hard_predictions.query(\"hard==1\").groupby([\"date\"])[[\"R1M_Usd\"]].mean().reset_index()\n",
    "df_hard_predictions_all_features_monthly_returns['growth_factor'] = 1 + df_hard_predictions_all_features_monthly_returns['R1M_Usd']\n",
    "df_hard_predictions_all_features_monthly_returns['equity_curve'] = df_hard_predictions_all_features_monthly_returns['growth_factor'].cumprod()"
   ]
  },
  {
   "cell_type": "code",
   "execution_count": null,
   "id": "116c409b-451a-424f-b340-724ef914c452",
   "metadata": {},
   "outputs": [
    {
     "data": {
      "text/plain": [
       "0.09978557870948612"
      ]
     },
     "execution_count": null,
     "metadata": {},
     "output_type": "execute_result"
    }
   ],
   "source": [
    "((df_hard_predictions_all_features_monthly_returns['equity_curve'].iloc[-1]) ** (12 / len(df_hard_predictions_all_features_monthly_returns))) - 1"
   ]
  },
  {
   "cell_type": "code",
   "execution_count": null,
   "id": "d28e4020-6702-4488-bfdd-5c2b94769a71",
   "metadata": {},
   "outputs": [
    {
     "data": {
      "text/plain": [
       "0.6999616707661639"
      ]
     },
     "execution_count": null,
     "metadata": {},
     "output_type": "execute_result"
    }
   ],
   "source": [
    "(df_hard_predictions_all_features_monthly_returns[\"R1M_Usd\"].mean() / df_hard_predictions_all_features_monthly_returns[\"R1M_Usd\"].std()) * np.sqrt(12)"
   ]
  },
  {
   "cell_type": "markdown",
   "id": "390ee16e-9116-4f0c-9fa0-c0ef30874e30",
   "metadata": {},
   "source": [
    "## Backtesting Hard Predictions Strategy with Selected Features"
   ]
  },
  {
   "cell_type": "code",
   "execution_count": null,
   "id": "a882b3cd-8cd9-4f5d-8fd2-4edd941746df",
   "metadata": {},
   "outputs": [],
   "source": [
    "df_hard_predictions = df_test[[\"date\", \"R1M_Usd\"]].copy().reset_index(drop=True)"
   ]
  },
  {
   "cell_type": "code",
   "execution_count": null,
   "id": "0a74c98d-a229-4c27-942d-a4194387ae1f",
   "metadata": {},
   "outputs": [],
   "source": [
    "df_inferences_selected_features = pd.read_csv(\"../data/inference_xgboost_untuned_selected_features.csv\")"
   ]
  },
  {
   "cell_type": "code",
   "execution_count": null,
   "id": "fd9ed08f-b63d-4786-a35a-5e06fac64ce9",
   "metadata": {},
   "outputs": [
    {
     "data": {
      "text/html": [
       "<div>\n",
       "<style scoped>\n",
       "    .dataframe tbody tr th:only-of-type {\n",
       "        vertical-align: middle;\n",
       "    }\n",
       "\n",
       "    .dataframe tbody tr th {\n",
       "        vertical-align: top;\n",
       "    }\n",
       "\n",
       "    .dataframe thead th {\n",
       "        text-align: right;\n",
       "    }\n",
       "</style>\n",
       "<table border=\"1\" class=\"dataframe\">\n",
       "  <thead>\n",
       "    <tr style=\"text-align: right;\">\n",
       "      <th></th>\n",
       "      <th>date</th>\n",
       "      <th>R1M_Usd</th>\n",
       "      <th>hard</th>\n",
       "      <th>probability_0</th>\n",
       "      <th>probability_1</th>\n",
       "    </tr>\n",
       "  </thead>\n",
       "  <tbody>\n",
       "    <tr>\n",
       "      <th>0</th>\n",
       "      <td>2015-03-31</td>\n",
       "      <td>0.174</td>\n",
       "      <td>0</td>\n",
       "      <td>0.536871</td>\n",
       "      <td>0.463129</td>\n",
       "    </tr>\n",
       "    <tr>\n",
       "      <th>1</th>\n",
       "      <td>2015-04-30</td>\n",
       "      <td>-0.106</td>\n",
       "      <td>0</td>\n",
       "      <td>0.536871</td>\n",
       "      <td>0.463129</td>\n",
       "    </tr>\n",
       "    <tr>\n",
       "      <th>2</th>\n",
       "      <td>2015-05-31</td>\n",
       "      <td>-0.185</td>\n",
       "      <td>0</td>\n",
       "      <td>0.536871</td>\n",
       "      <td>0.463129</td>\n",
       "    </tr>\n",
       "    <tr>\n",
       "      <th>3</th>\n",
       "      <td>2015-06-30</td>\n",
       "      <td>-0.418</td>\n",
       "      <td>0</td>\n",
       "      <td>0.546819</td>\n",
       "      <td>0.453181</td>\n",
       "    </tr>\n",
       "    <tr>\n",
       "      <th>4</th>\n",
       "      <td>2015-07-31</td>\n",
       "      <td>0.575</td>\n",
       "      <td>0</td>\n",
       "      <td>0.546819</td>\n",
       "      <td>0.453181</td>\n",
       "    </tr>\n",
       "    <tr>\n",
       "      <th>...</th>\n",
       "      <td>...</td>\n",
       "      <td>...</td>\n",
       "      <td>...</td>\n",
       "      <td>...</td>\n",
       "      <td>...</td>\n",
       "    </tr>\n",
       "    <tr>\n",
       "      <th>70484</th>\n",
       "      <td>2018-07-31</td>\n",
       "      <td>0.028</td>\n",
       "      <td>1</td>\n",
       "      <td>0.430574</td>\n",
       "      <td>0.569426</td>\n",
       "    </tr>\n",
       "    <tr>\n",
       "      <th>70485</th>\n",
       "      <td>2018-08-31</td>\n",
       "      <td>-0.101</td>\n",
       "      <td>0</td>\n",
       "      <td>0.525031</td>\n",
       "      <td>0.474969</td>\n",
       "    </tr>\n",
       "    <tr>\n",
       "      <th>70486</th>\n",
       "      <td>2018-09-30</td>\n",
       "      <td>0.013</td>\n",
       "      <td>1</td>\n",
       "      <td>0.473333</td>\n",
       "      <td>0.526667</td>\n",
       "    </tr>\n",
       "    <tr>\n",
       "      <th>70487</th>\n",
       "      <td>2018-10-31</td>\n",
       "      <td>0.039</td>\n",
       "      <td>0</td>\n",
       "      <td>0.530257</td>\n",
       "      <td>0.469743</td>\n",
       "    </tr>\n",
       "    <tr>\n",
       "      <th>70488</th>\n",
       "      <td>2018-11-30</td>\n",
       "      <td>-0.151</td>\n",
       "      <td>1</td>\n",
       "      <td>0.474773</td>\n",
       "      <td>0.525227</td>\n",
       "    </tr>\n",
       "  </tbody>\n",
       "</table>\n",
       "<p>70489 rows × 5 columns</p>\n",
       "</div>"
      ],
      "text/plain": [
       "             date  R1M_Usd  hard  probability_0  probability_1\n",
       "0      2015-03-31    0.174     0       0.536871       0.463129\n",
       "1      2015-04-30   -0.106     0       0.536871       0.463129\n",
       "2      2015-05-31   -0.185     0       0.536871       0.463129\n",
       "3      2015-06-30   -0.418     0       0.546819       0.453181\n",
       "4      2015-07-31    0.575     0       0.546819       0.453181\n",
       "...           ...      ...   ...            ...            ...\n",
       "70484  2018-07-31    0.028     1       0.430574       0.569426\n",
       "70485  2018-08-31   -0.101     0       0.525031       0.474969\n",
       "70486  2018-09-30    0.013     1       0.473333       0.526667\n",
       "70487  2018-10-31    0.039     0       0.530257       0.469743\n",
       "70488  2018-11-30   -0.151     1       0.474773       0.525227\n",
       "\n",
       "[70489 rows x 5 columns]"
      ]
     },
     "execution_count": null,
     "metadata": {},
     "output_type": "execute_result"
    }
   ],
   "source": [
    "df_hard_predictions = pd.concat([df_hard_predictions, df_inferences_selected_features], axis=1)\n",
    "df_hard_predictions"
   ]
  },
  {
   "cell_type": "code",
   "execution_count": null,
   "id": "0a81d82d-f2fc-4c9c-a03c-f25cb7c6be9f",
   "metadata": {},
   "outputs": [],
   "source": [
    "df_hard_predictions_selected_features_monthly_returns = df_hard_predictions.query(\"hard==1\").groupby([\"date\"])[[\"R1M_Usd\"]].mean().reset_index()\n",
    "df_hard_predictions_selected_features_monthly_returns['growth_factor'] = 1 + df_hard_predictions_selected_features_monthly_returns['R1M_Usd']\n",
    "df_hard_predictions_selected_features_monthly_returns['equity_curve'] = df_hard_predictions_selected_features_monthly_returns['growth_factor'].cumprod()"
   ]
  },
  {
   "cell_type": "code",
   "execution_count": null,
   "id": "67bb9dba-3481-435f-bb06-740a3563891f",
   "metadata": {},
   "outputs": [
    {
     "data": {
      "text/plain": [
       "0.0898742403072399"
      ]
     },
     "execution_count": null,
     "metadata": {},
     "output_type": "execute_result"
    }
   ],
   "source": [
    "((df_hard_predictions_selected_features_monthly_returns['equity_curve'].iloc[-1]) ** (12 / len(df_hard_predictions_selected_features_monthly_returns))) - 1"
   ]
  },
  {
   "cell_type": "code",
   "execution_count": null,
   "id": "d42f39af-6a76-4a78-9586-c62a3a0076df",
   "metadata": {},
   "outputs": [
    {
     "data": {
      "text/plain": [
       "0.6398779755001034"
      ]
     },
     "execution_count": null,
     "metadata": {},
     "output_type": "execute_result"
    }
   ],
   "source": [
    "(df_hard_predictions_selected_features_monthly_returns[\"R1M_Usd\"].mean() / df_hard_predictions_selected_features_monthly_returns[\"R1M_Usd\"].std()) * np.sqrt(12)"
   ]
  },
  {
   "cell_type": "markdown",
   "id": "2093a0f7-41bd-4355-90db-eabac83da960",
   "metadata": {},
   "source": [
    "## Backtesting Top-200 Strategy with All Features"
   ]
  },
  {
   "cell_type": "code",
   "execution_count": null,
   "id": "e7578804-1f6d-4d53-aa23-9c16126f198f",
   "metadata": {},
   "outputs": [],
   "source": [
    "df_screen = df_test[[\"date\", \"R1M_Usd\"]].copy().reset_index(drop=True)"
   ]
  },
  {
   "cell_type": "code",
   "execution_count": null,
   "id": "76c432b9-5dce-44f4-b0fa-0cb2a48959b5",
   "metadata": {},
   "outputs": [
    {
     "data": {
      "text/html": [
       "<div>\n",
       "<style scoped>\n",
       "    .dataframe tbody tr th:only-of-type {\n",
       "        vertical-align: middle;\n",
       "    }\n",
       "\n",
       "    .dataframe tbody tr th {\n",
       "        vertical-align: top;\n",
       "    }\n",
       "\n",
       "    .dataframe thead th {\n",
       "        text-align: right;\n",
       "    }\n",
       "</style>\n",
       "<table border=\"1\" class=\"dataframe\">\n",
       "  <thead>\n",
       "    <tr style=\"text-align: right;\">\n",
       "      <th></th>\n",
       "      <th>date</th>\n",
       "      <th>R1M_Usd</th>\n",
       "      <th>hard</th>\n",
       "      <th>probability_0</th>\n",
       "      <th>probability_1</th>\n",
       "    </tr>\n",
       "  </thead>\n",
       "  <tbody>\n",
       "    <tr>\n",
       "      <th>0</th>\n",
       "      <td>2015-03-31</td>\n",
       "      <td>0.174</td>\n",
       "      <td>1</td>\n",
       "      <td>0.443008</td>\n",
       "      <td>0.556992</td>\n",
       "    </tr>\n",
       "    <tr>\n",
       "      <th>1</th>\n",
       "      <td>2015-04-30</td>\n",
       "      <td>-0.106</td>\n",
       "      <td>1</td>\n",
       "      <td>0.407426</td>\n",
       "      <td>0.592574</td>\n",
       "    </tr>\n",
       "    <tr>\n",
       "      <th>2</th>\n",
       "      <td>2015-05-31</td>\n",
       "      <td>-0.185</td>\n",
       "      <td>1</td>\n",
       "      <td>0.417241</td>\n",
       "      <td>0.582759</td>\n",
       "    </tr>\n",
       "    <tr>\n",
       "      <th>3</th>\n",
       "      <td>2015-06-30</td>\n",
       "      <td>-0.418</td>\n",
       "      <td>1</td>\n",
       "      <td>0.392114</td>\n",
       "      <td>0.607886</td>\n",
       "    </tr>\n",
       "    <tr>\n",
       "      <th>4</th>\n",
       "      <td>2015-07-31</td>\n",
       "      <td>0.575</td>\n",
       "      <td>1</td>\n",
       "      <td>0.392114</td>\n",
       "      <td>0.607886</td>\n",
       "    </tr>\n",
       "    <tr>\n",
       "      <th>...</th>\n",
       "      <td>...</td>\n",
       "      <td>...</td>\n",
       "      <td>...</td>\n",
       "      <td>...</td>\n",
       "      <td>...</td>\n",
       "    </tr>\n",
       "    <tr>\n",
       "      <th>70484</th>\n",
       "      <td>2018-07-31</td>\n",
       "      <td>0.028</td>\n",
       "      <td>1</td>\n",
       "      <td>0.479271</td>\n",
       "      <td>0.520729</td>\n",
       "    </tr>\n",
       "    <tr>\n",
       "      <th>70485</th>\n",
       "      <td>2018-08-31</td>\n",
       "      <td>-0.101</td>\n",
       "      <td>0</td>\n",
       "      <td>0.513952</td>\n",
       "      <td>0.486048</td>\n",
       "    </tr>\n",
       "    <tr>\n",
       "      <th>70486</th>\n",
       "      <td>2018-09-30</td>\n",
       "      <td>0.013</td>\n",
       "      <td>1</td>\n",
       "      <td>0.483383</td>\n",
       "      <td>0.516617</td>\n",
       "    </tr>\n",
       "    <tr>\n",
       "      <th>70487</th>\n",
       "      <td>2018-10-31</td>\n",
       "      <td>0.039</td>\n",
       "      <td>1</td>\n",
       "      <td>0.477990</td>\n",
       "      <td>0.522010</td>\n",
       "    </tr>\n",
       "    <tr>\n",
       "      <th>70488</th>\n",
       "      <td>2018-11-30</td>\n",
       "      <td>-0.151</td>\n",
       "      <td>0</td>\n",
       "      <td>0.507691</td>\n",
       "      <td>0.492309</td>\n",
       "    </tr>\n",
       "  </tbody>\n",
       "</table>\n",
       "<p>70489 rows × 5 columns</p>\n",
       "</div>"
      ],
      "text/plain": [
       "             date  R1M_Usd  hard  probability_0  probability_1\n",
       "0      2015-03-31    0.174     1       0.443008       0.556992\n",
       "1      2015-04-30   -0.106     1       0.407426       0.592574\n",
       "2      2015-05-31   -0.185     1       0.417241       0.582759\n",
       "3      2015-06-30   -0.418     1       0.392114       0.607886\n",
       "4      2015-07-31    0.575     1       0.392114       0.607886\n",
       "...           ...      ...   ...            ...            ...\n",
       "70484  2018-07-31    0.028     1       0.479271       0.520729\n",
       "70485  2018-08-31   -0.101     0       0.513952       0.486048\n",
       "70486  2018-09-30    0.013     1       0.483383       0.516617\n",
       "70487  2018-10-31    0.039     1       0.477990       0.522010\n",
       "70488  2018-11-30   -0.151     0       0.507691       0.492309\n",
       "\n",
       "[70489 rows x 5 columns]"
      ]
     },
     "execution_count": null,
     "metadata": {},
     "output_type": "execute_result"
    }
   ],
   "source": [
    "df_screen = pd.concat([df_screen, df_inferences_all_features], axis=1)\n",
    "df_screen"
   ]
  },
  {
   "cell_type": "code",
   "execution_count": null,
   "id": "6dde0918-c51b-4f3e-979f-29420e0419dc",
   "metadata": {},
   "outputs": [],
   "source": [
    "rebalance_dates = list(np.sort(df_screen[\"date\"].unique()))"
   ]
  },
  {
   "cell_type": "code",
   "execution_count": null,
   "id": "ad6f4d3b-1774-404b-b2ef-7c481ea8c37e",
   "metadata": {},
   "outputs": [
    {
     "data": {
      "text/html": [
       "<div>\n",
       "<style scoped>\n",
       "    .dataframe tbody tr th:only-of-type {\n",
       "        vertical-align: middle;\n",
       "    }\n",
       "\n",
       "    .dataframe tbody tr th {\n",
       "        vertical-align: top;\n",
       "    }\n",
       "\n",
       "    .dataframe thead th {\n",
       "        text-align: right;\n",
       "    }\n",
       "</style>\n",
       "<table border=\"1\" class=\"dataframe\">\n",
       "  <thead>\n",
       "    <tr style=\"text-align: right;\">\n",
       "      <th></th>\n",
       "      <th>date</th>\n",
       "      <th>R1M_Usd</th>\n",
       "      <th>hard</th>\n",
       "      <th>probability_0</th>\n",
       "      <th>probability_1</th>\n",
       "    </tr>\n",
       "  </thead>\n",
       "  <tbody>\n",
       "    <tr>\n",
       "      <th>3895</th>\n",
       "      <td>2013-12-31</td>\n",
       "      <td>-0.143</td>\n",
       "      <td>1</td>\n",
       "      <td>0.263827</td>\n",
       "      <td>0.736173</td>\n",
       "    </tr>\n",
       "    <tr>\n",
       "      <th>50794</th>\n",
       "      <td>2013-12-31</td>\n",
       "      <td>-0.084</td>\n",
       "      <td>1</td>\n",
       "      <td>0.311379</td>\n",
       "      <td>0.688621</td>\n",
       "    </tr>\n",
       "    <tr>\n",
       "      <th>3253</th>\n",
       "      <td>2013-12-31</td>\n",
       "      <td>-0.020</td>\n",
       "      <td>1</td>\n",
       "      <td>0.317741</td>\n",
       "      <td>0.682259</td>\n",
       "    </tr>\n",
       "    <tr>\n",
       "      <th>5936</th>\n",
       "      <td>2013-12-31</td>\n",
       "      <td>-0.078</td>\n",
       "      <td>1</td>\n",
       "      <td>0.345943</td>\n",
       "      <td>0.654057</td>\n",
       "    </tr>\n",
       "    <tr>\n",
       "      <th>36072</th>\n",
       "      <td>2013-12-31</td>\n",
       "      <td>0.081</td>\n",
       "      <td>1</td>\n",
       "      <td>0.349769</td>\n",
       "      <td>0.650231</td>\n",
       "    </tr>\n",
       "    <tr>\n",
       "      <th>...</th>\n",
       "      <td>...</td>\n",
       "      <td>...</td>\n",
       "      <td>...</td>\n",
       "      <td>...</td>\n",
       "      <td>...</td>\n",
       "    </tr>\n",
       "    <tr>\n",
       "      <th>58237</th>\n",
       "      <td>2018-11-30</td>\n",
       "      <td>-0.238</td>\n",
       "      <td>1</td>\n",
       "      <td>0.459861</td>\n",
       "      <td>0.540139</td>\n",
       "    </tr>\n",
       "    <tr>\n",
       "      <th>27113</th>\n",
       "      <td>2018-11-30</td>\n",
       "      <td>-0.115</td>\n",
       "      <td>1</td>\n",
       "      <td>0.459999</td>\n",
       "      <td>0.540001</td>\n",
       "    </tr>\n",
       "    <tr>\n",
       "      <th>63723</th>\n",
       "      <td>2018-11-30</td>\n",
       "      <td>0.008</td>\n",
       "      <td>1</td>\n",
       "      <td>0.460141</td>\n",
       "      <td>0.539859</td>\n",
       "    </tr>\n",
       "    <tr>\n",
       "      <th>62200</th>\n",
       "      <td>2018-11-30</td>\n",
       "      <td>-0.062</td>\n",
       "      <td>1</td>\n",
       "      <td>0.460433</td>\n",
       "      <td>0.539566</td>\n",
       "    </tr>\n",
       "    <tr>\n",
       "      <th>6588</th>\n",
       "      <td>2018-11-30</td>\n",
       "      <td>-0.120</td>\n",
       "      <td>1</td>\n",
       "      <td>0.460461</td>\n",
       "      <td>0.539539</td>\n",
       "    </tr>\n",
       "  </tbody>\n",
       "</table>\n",
       "<p>12000 rows × 5 columns</p>\n",
       "</div>"
      ],
      "text/plain": [
       "             date  R1M_Usd  hard  probability_0  probability_1\n",
       "3895   2013-12-31   -0.143     1       0.263827       0.736173\n",
       "50794  2013-12-31   -0.084     1       0.311379       0.688621\n",
       "3253   2013-12-31   -0.020     1       0.317741       0.682259\n",
       "5936   2013-12-31   -0.078     1       0.345943       0.654057\n",
       "36072  2013-12-31    0.081     1       0.349769       0.650231\n",
       "...           ...      ...   ...            ...            ...\n",
       "58237  2018-11-30   -0.238     1       0.459861       0.540139\n",
       "27113  2018-11-30   -0.115     1       0.459999       0.540001\n",
       "63723  2018-11-30    0.008     1       0.460141       0.539859\n",
       "62200  2018-11-30   -0.062     1       0.460433       0.539566\n",
       "6588   2018-11-30   -0.120     1       0.460461       0.539539\n",
       "\n",
       "[12000 rows x 5 columns]"
      ]
     },
     "execution_count": null,
     "metadata": {},
     "output_type": "execute_result"
    }
   ],
   "source": [
    "lst_trades = []\n",
    "for ix_date in rebalance_dates:\n",
    "    df = df_screen.query(\"date == @ix_date\").sort_values(by=\"probability_1\", ascending=False).head(200).copy()\n",
    "    lst_trades.append(df)\n",
    "df_trades = pd.concat(lst_trades)\n",
    "df_trades"
   ]
  },
  {
   "cell_type": "code",
   "execution_count": null,
   "id": "cf7266a9-aeed-45a3-addb-d68c284f9e21",
   "metadata": {},
   "outputs": [],
   "source": [
    "df_top_200_all_features_monthly_returns = df_trades.groupby(\"date\")[[\"R1M_Usd\"]].mean().reset_index()\n",
    "df_top_200_all_features_monthly_returns['growth_factor'] = 1 + df_top_200_all_features_monthly_returns['R1M_Usd']\n",
    "df_top_200_all_features_monthly_returns['equity_curve'] = df_top_200_all_features_monthly_returns['growth_factor'].cumprod()"
   ]
  },
  {
   "cell_type": "code",
   "execution_count": null,
   "id": "362ebbac-0c6f-4ca1-8edb-685499914606",
   "metadata": {},
   "outputs": [
    {
     "data": {
      "text/plain": [
       "0.1261464514697337"
      ]
     },
     "execution_count": null,
     "metadata": {},
     "output_type": "execute_result"
    }
   ],
   "source": [
    "((df_top_200_all_features_monthly_returns['equity_curve'].iloc[-1]) ** (12 / len(df_top_200_all_features_monthly_returns))) - 1"
   ]
  },
  {
   "cell_type": "code",
   "execution_count": null,
   "id": "ac15187b-d51e-4865-ba9f-1487fe6638fa",
   "metadata": {},
   "outputs": [
    {
     "data": {
      "text/plain": [
       "0.7222519665321232"
      ]
     },
     "execution_count": null,
     "metadata": {},
     "output_type": "execute_result"
    }
   ],
   "source": [
    "(df_top_200_all_features_monthly_returns[\"R1M_Usd\"].mean() / df_top_200_all_features_monthly_returns[\"R1M_Usd\"].std()) * np.sqrt(12)"
   ]
  },
  {
   "cell_type": "markdown",
   "id": "fcff4c7a-53a0-47ef-ac01-1856a2ea104f",
   "metadata": {},
   "source": [
    "## Backtesting Top-200 Strategy with Selected Features"
   ]
  },
  {
   "cell_type": "code",
   "execution_count": null,
   "id": "7b843fa3-6165-4416-8235-997b943c981f",
   "metadata": {},
   "outputs": [],
   "source": [
    "df_screen = df_test[[\"date\", \"R1M_Usd\"]].copy().reset_index(drop=True)"
   ]
  },
  {
   "cell_type": "code",
   "execution_count": null,
   "id": "e7564240-936f-49c6-854b-5e275b0d36ef",
   "metadata": {},
   "outputs": [
    {
     "data": {
      "text/html": [
       "<div>\n",
       "<style scoped>\n",
       "    .dataframe tbody tr th:only-of-type {\n",
       "        vertical-align: middle;\n",
       "    }\n",
       "\n",
       "    .dataframe tbody tr th {\n",
       "        vertical-align: top;\n",
       "    }\n",
       "\n",
       "    .dataframe thead th {\n",
       "        text-align: right;\n",
       "    }\n",
       "</style>\n",
       "<table border=\"1\" class=\"dataframe\">\n",
       "  <thead>\n",
       "    <tr style=\"text-align: right;\">\n",
       "      <th></th>\n",
       "      <th>date</th>\n",
       "      <th>R1M_Usd</th>\n",
       "      <th>hard</th>\n",
       "      <th>probability_0</th>\n",
       "      <th>probability_1</th>\n",
       "    </tr>\n",
       "  </thead>\n",
       "  <tbody>\n",
       "    <tr>\n",
       "      <th>0</th>\n",
       "      <td>2015-03-31</td>\n",
       "      <td>0.174</td>\n",
       "      <td>0</td>\n",
       "      <td>0.536871</td>\n",
       "      <td>0.463129</td>\n",
       "    </tr>\n",
       "    <tr>\n",
       "      <th>1</th>\n",
       "      <td>2015-04-30</td>\n",
       "      <td>-0.106</td>\n",
       "      <td>0</td>\n",
       "      <td>0.536871</td>\n",
       "      <td>0.463129</td>\n",
       "    </tr>\n",
       "    <tr>\n",
       "      <th>2</th>\n",
       "      <td>2015-05-31</td>\n",
       "      <td>-0.185</td>\n",
       "      <td>0</td>\n",
       "      <td>0.536871</td>\n",
       "      <td>0.463129</td>\n",
       "    </tr>\n",
       "    <tr>\n",
       "      <th>3</th>\n",
       "      <td>2015-06-30</td>\n",
       "      <td>-0.418</td>\n",
       "      <td>0</td>\n",
       "      <td>0.546819</td>\n",
       "      <td>0.453181</td>\n",
       "    </tr>\n",
       "    <tr>\n",
       "      <th>4</th>\n",
       "      <td>2015-07-31</td>\n",
       "      <td>0.575</td>\n",
       "      <td>0</td>\n",
       "      <td>0.546819</td>\n",
       "      <td>0.453181</td>\n",
       "    </tr>\n",
       "    <tr>\n",
       "      <th>...</th>\n",
       "      <td>...</td>\n",
       "      <td>...</td>\n",
       "      <td>...</td>\n",
       "      <td>...</td>\n",
       "      <td>...</td>\n",
       "    </tr>\n",
       "    <tr>\n",
       "      <th>70484</th>\n",
       "      <td>2018-07-31</td>\n",
       "      <td>0.028</td>\n",
       "      <td>1</td>\n",
       "      <td>0.430574</td>\n",
       "      <td>0.569426</td>\n",
       "    </tr>\n",
       "    <tr>\n",
       "      <th>70485</th>\n",
       "      <td>2018-08-31</td>\n",
       "      <td>-0.101</td>\n",
       "      <td>0</td>\n",
       "      <td>0.525031</td>\n",
       "      <td>0.474969</td>\n",
       "    </tr>\n",
       "    <tr>\n",
       "      <th>70486</th>\n",
       "      <td>2018-09-30</td>\n",
       "      <td>0.013</td>\n",
       "      <td>1</td>\n",
       "      <td>0.473333</td>\n",
       "      <td>0.526667</td>\n",
       "    </tr>\n",
       "    <tr>\n",
       "      <th>70487</th>\n",
       "      <td>2018-10-31</td>\n",
       "      <td>0.039</td>\n",
       "      <td>0</td>\n",
       "      <td>0.530257</td>\n",
       "      <td>0.469743</td>\n",
       "    </tr>\n",
       "    <tr>\n",
       "      <th>70488</th>\n",
       "      <td>2018-11-30</td>\n",
       "      <td>-0.151</td>\n",
       "      <td>1</td>\n",
       "      <td>0.474773</td>\n",
       "      <td>0.525227</td>\n",
       "    </tr>\n",
       "  </tbody>\n",
       "</table>\n",
       "<p>70489 rows × 5 columns</p>\n",
       "</div>"
      ],
      "text/plain": [
       "             date  R1M_Usd  hard  probability_0  probability_1\n",
       "0      2015-03-31    0.174     0       0.536871       0.463129\n",
       "1      2015-04-30   -0.106     0       0.536871       0.463129\n",
       "2      2015-05-31   -0.185     0       0.536871       0.463129\n",
       "3      2015-06-30   -0.418     0       0.546819       0.453181\n",
       "4      2015-07-31    0.575     0       0.546819       0.453181\n",
       "...           ...      ...   ...            ...            ...\n",
       "70484  2018-07-31    0.028     1       0.430574       0.569426\n",
       "70485  2018-08-31   -0.101     0       0.525031       0.474969\n",
       "70486  2018-09-30    0.013     1       0.473333       0.526667\n",
       "70487  2018-10-31    0.039     0       0.530257       0.469743\n",
       "70488  2018-11-30   -0.151     1       0.474773       0.525227\n",
       "\n",
       "[70489 rows x 5 columns]"
      ]
     },
     "execution_count": null,
     "metadata": {},
     "output_type": "execute_result"
    }
   ],
   "source": [
    "df_screen = pd.concat([df_screen, df_inferences_selected_features], axis=1)\n",
    "df_screen"
   ]
  },
  {
   "cell_type": "code",
   "execution_count": null,
   "id": "0972cfaf-848c-4936-ba7a-46b5c77058c2",
   "metadata": {},
   "outputs": [],
   "source": [
    "rebalance_dates = list(np.sort(df_screen[\"date\"].unique()))"
   ]
  },
  {
   "cell_type": "code",
   "execution_count": null,
   "id": "40e5297a-aa8f-4eb3-90a9-b7bcec41b3e4",
   "metadata": {},
   "outputs": [
    {
     "data": {
      "text/html": [
       "<div>\n",
       "<style scoped>\n",
       "    .dataframe tbody tr th:only-of-type {\n",
       "        vertical-align: middle;\n",
       "    }\n",
       "\n",
       "    .dataframe tbody tr th {\n",
       "        vertical-align: top;\n",
       "    }\n",
       "\n",
       "    .dataframe thead th {\n",
       "        text-align: right;\n",
       "    }\n",
       "</style>\n",
       "<table border=\"1\" class=\"dataframe\">\n",
       "  <thead>\n",
       "    <tr style=\"text-align: right;\">\n",
       "      <th></th>\n",
       "      <th>date</th>\n",
       "      <th>R1M_Usd</th>\n",
       "      <th>hard</th>\n",
       "      <th>probability_0</th>\n",
       "      <th>probability_1</th>\n",
       "    </tr>\n",
       "  </thead>\n",
       "  <tbody>\n",
       "    <tr>\n",
       "      <th>5310</th>\n",
       "      <td>2013-12-31</td>\n",
       "      <td>0.082</td>\n",
       "      <td>1</td>\n",
       "      <td>0.326796</td>\n",
       "      <td>0.673204</td>\n",
       "    </tr>\n",
       "    <tr>\n",
       "      <th>53759</th>\n",
       "      <td>2013-12-31</td>\n",
       "      <td>-0.083</td>\n",
       "      <td>1</td>\n",
       "      <td>0.342406</td>\n",
       "      <td>0.657594</td>\n",
       "    </tr>\n",
       "    <tr>\n",
       "      <th>3895</th>\n",
       "      <td>2013-12-31</td>\n",
       "      <td>-0.143</td>\n",
       "      <td>1</td>\n",
       "      <td>0.347458</td>\n",
       "      <td>0.652542</td>\n",
       "    </tr>\n",
       "    <tr>\n",
       "      <th>36072</th>\n",
       "      <td>2013-12-31</td>\n",
       "      <td>0.081</td>\n",
       "      <td>1</td>\n",
       "      <td>0.352051</td>\n",
       "      <td>0.647949</td>\n",
       "    </tr>\n",
       "    <tr>\n",
       "      <th>53393</th>\n",
       "      <td>2013-12-31</td>\n",
       "      <td>-0.094</td>\n",
       "      <td>1</td>\n",
       "      <td>0.354849</td>\n",
       "      <td>0.645151</td>\n",
       "    </tr>\n",
       "    <tr>\n",
       "      <th>...</th>\n",
       "      <td>...</td>\n",
       "      <td>...</td>\n",
       "      <td>...</td>\n",
       "      <td>...</td>\n",
       "      <td>...</td>\n",
       "    </tr>\n",
       "    <tr>\n",
       "      <th>37478</th>\n",
       "      <td>2018-11-30</td>\n",
       "      <td>-0.203</td>\n",
       "      <td>1</td>\n",
       "      <td>0.462411</td>\n",
       "      <td>0.537589</td>\n",
       "    </tr>\n",
       "    <tr>\n",
       "      <th>49588</th>\n",
       "      <td>2018-11-30</td>\n",
       "      <td>-0.082</td>\n",
       "      <td>1</td>\n",
       "      <td>0.462438</td>\n",
       "      <td>0.537562</td>\n",
       "    </tr>\n",
       "    <tr>\n",
       "      <th>16075</th>\n",
       "      <td>2018-11-30</td>\n",
       "      <td>-0.144</td>\n",
       "      <td>1</td>\n",
       "      <td>0.462517</td>\n",
       "      <td>0.537483</td>\n",
       "    </tr>\n",
       "    <tr>\n",
       "      <th>37921</th>\n",
       "      <td>2018-11-30</td>\n",
       "      <td>-0.021</td>\n",
       "      <td>1</td>\n",
       "      <td>0.462539</td>\n",
       "      <td>0.537461</td>\n",
       "    </tr>\n",
       "    <tr>\n",
       "      <th>47733</th>\n",
       "      <td>2018-11-30</td>\n",
       "      <td>-0.174</td>\n",
       "      <td>1</td>\n",
       "      <td>0.462589</td>\n",
       "      <td>0.537411</td>\n",
       "    </tr>\n",
       "  </tbody>\n",
       "</table>\n",
       "<p>12000 rows × 5 columns</p>\n",
       "</div>"
      ],
      "text/plain": [
       "             date  R1M_Usd  hard  probability_0  probability_1\n",
       "5310   2013-12-31    0.082     1       0.326796       0.673204\n",
       "53759  2013-12-31   -0.083     1       0.342406       0.657594\n",
       "3895   2013-12-31   -0.143     1       0.347458       0.652542\n",
       "36072  2013-12-31    0.081     1       0.352051       0.647949\n",
       "53393  2013-12-31   -0.094     1       0.354849       0.645151\n",
       "...           ...      ...   ...            ...            ...\n",
       "37478  2018-11-30   -0.203     1       0.462411       0.537589\n",
       "49588  2018-11-30   -0.082     1       0.462438       0.537562\n",
       "16075  2018-11-30   -0.144     1       0.462517       0.537483\n",
       "37921  2018-11-30   -0.021     1       0.462539       0.537461\n",
       "47733  2018-11-30   -0.174     1       0.462589       0.537411\n",
       "\n",
       "[12000 rows x 5 columns]"
      ]
     },
     "execution_count": null,
     "metadata": {},
     "output_type": "execute_result"
    }
   ],
   "source": [
    "lst_trades = []\n",
    "for ix_date in rebalance_dates:\n",
    "    df = df_screen.query(\"date == @ix_date\").sort_values(by=\"probability_1\", ascending=False).head(200).copy()\n",
    "    lst_trades.append(df)\n",
    "df_trades = pd.concat(lst_trades)\n",
    "df_trades"
   ]
  },
  {
   "cell_type": "code",
   "execution_count": null,
   "id": "8c1e977b-ebf0-445b-98dc-172eda0e9d88",
   "metadata": {},
   "outputs": [],
   "source": [
    "df_top_200_selected_features_monthly_returns = df_trades.groupby(\"date\")[[\"R1M_Usd\"]].mean().reset_index()\n",
    "df_top_200_selected_features_monthly_returns['growth_factor'] = 1 + df_top_200_selected_features_monthly_returns['R1M_Usd']\n",
    "df_top_200_selected_features_monthly_returns['equity_curve'] = df_top_200_selected_features_monthly_returns['growth_factor'].cumprod()"
   ]
  },
  {
   "cell_type": "code",
   "execution_count": null,
   "id": "38ccba5f-9966-4cfa-8de4-3549023ad686",
   "metadata": {},
   "outputs": [
    {
     "data": {
      "text/plain": [
       "0.111150118774473"
      ]
     },
     "execution_count": null,
     "metadata": {},
     "output_type": "execute_result"
    }
   ],
   "source": [
    "((df_top_200_selected_features_monthly_returns['equity_curve'].iloc[-1]) ** (12 / len(df_top_200_selected_features_monthly_returns))) - 1"
   ]
  },
  {
   "cell_type": "code",
   "execution_count": null,
   "id": "c5da8f77-29d1-4322-8423-c19b4f56898b",
   "metadata": {},
   "outputs": [
    {
     "data": {
      "text/plain": [
       "0.6506864531883617"
      ]
     },
     "execution_count": null,
     "metadata": {},
     "output_type": "execute_result"
    }
   ],
   "source": [
    "(df_top_200_selected_features_monthly_returns[\"R1M_Usd\"].mean() / df_top_200_selected_features_monthly_returns[\"R1M_Usd\"].std()) * np.sqrt(12)"
   ]
  }
 ],
 "metadata": {
  "kernelspec": {
   "display_name": "python3",
   "language": "python",
   "name": "python3"
  }
 },
 "nbformat": 4,
 "nbformat_minor": 5
}
