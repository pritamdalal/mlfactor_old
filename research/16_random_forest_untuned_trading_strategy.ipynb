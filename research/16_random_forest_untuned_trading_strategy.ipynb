{
 "cells": [
  {
   "cell_type": "markdown",
   "id": "ab15e39b-f1a0-4ffa-a746-9992e1a49a98",
   "metadata": {},
   "source": [
    "## Importing Packages"
   ]
  },
  {
   "cell_type": "code",
   "execution_count": null,
   "id": "75d6cb8c-7342-4e74-938a-ca2809fd2551",
   "metadata": {},
   "outputs": [],
   "source": [
    "import numpy as np\n",
    "import pandas as pd"
   ]
  },
  {
   "cell_type": "markdown",
   "id": "71b77ded-ed8f-4470-b2ae-1eca136793b2",
   "metadata": {},
   "source": [
    "## Reading and Separating Data"
   ]
  },
  {
   "cell_type": "code",
   "execution_count": null,
   "id": "6287ab34-ee32-4dfa-847d-f65a48a4323f",
   "metadata": {},
   "outputs": [],
   "source": [
    "df_ml = pd.read_csv(\"../data/data_ml.csv\")"
   ]
  },
  {
   "cell_type": "code",
   "execution_count": null,
   "id": "7f1d898f-0a14-4906-964a-60ecd4f103eb",
   "metadata": {},
   "outputs": [],
   "source": [
    "separation_date = \"2013-12-31\"\n",
    "df_train = df_ml.query(\"date < @separation_date\").copy()\n",
    "df_test = df_ml.query(\"@separation_date <= date & date < '2018-12-31'\").copy()"
   ]
  },
  {
   "cell_type": "code",
   "execution_count": null,
   "id": "638e46fc-f4ab-408e-a017-17b9c6881102",
   "metadata": {},
   "outputs": [],
   "source": [
    "columns_to_drop = [\n",
    "    \"stock_id\", \"date\", # non-feature identifiers\n",
    "    \"R1M_Usd\", \"R3M_Usd\", \"R6M_Usd\", \"R12M_Usd\", # numerical labels\n",
    "    \"R1M_Usd_C\", \"R12M_Usd_C\" # categorical labels\n",
    "]\n",
    "\n",
    "features = list(df_ml.drop(columns=columns_to_drop).columns)"
   ]
  },
  {
   "cell_type": "code",
   "execution_count": null,
   "id": "9117e30a-1520-4d52-a883-e69af959d3ac",
   "metadata": {},
   "outputs": [],
   "source": [
    "X_train = df_train[features]\n",
    "y_train = df_train[\"R1M_Usd_C\"]"
   ]
  },
  {
   "cell_type": "code",
   "execution_count": null,
   "id": "3eb7ba03-fa52-4b89-a1d2-4b998243e08d",
   "metadata": {},
   "outputs": [],
   "source": [
    "X_test = df_test[features]\n",
    "y_test = df_test[\"R1M_Usd_C\"]"
   ]
  },
  {
   "cell_type": "code",
   "execution_count": null,
   "id": "f08f9a6e-bd22-44da-846c-3e516d384c3f",
   "metadata": {},
   "outputs": [],
   "source": [
    "df_features_selected = pd.read_csv(\"../data/features_selected.csv\")\n",
    "features_selected = list(df_features_selected[\"feature\"].values)"
   ]
  },
  {
   "cell_type": "markdown",
   "id": "362399da-cb03-41d2-b7f0-59afcfe035c8",
   "metadata": {},
   "source": [
    "## Backtesting Equally Weighted Market Portfolio"
   ]
  },
  {
   "cell_type": "code",
   "execution_count": null,
   "id": "8cbf17e3-76fd-4a1b-94f5-b1a7c71de371",
   "metadata": {},
   "outputs": [],
   "source": [
    "df_market = df_test[[\"date\", \"R1M_Usd\"]].copy().reset_index(drop=True)"
   ]
  },
  {
   "cell_type": "code",
   "execution_count": null,
   "id": "f7226fd4-cdf5-46e7-9393-5a59d0508fbc",
   "metadata": {},
   "outputs": [],
   "source": [
    "df_market_monthly_returns = df_market.groupby([\"date\"])[[\"R1M_Usd\"]].mean().reset_index()\n",
    "df_market_monthly_returns['growth_factor'] = 1 + df_market_monthly_returns['R1M_Usd']\n",
    "df_market_monthly_returns['equity_curve'] = df_market_monthly_returns['growth_factor'].cumprod()"
   ]
  },
  {
   "cell_type": "code",
   "execution_count": null,
   "id": "f896aced-17e1-48f1-ab62-9585ca80f9e0",
   "metadata": {},
   "outputs": [
    {
     "data": {
      "text/plain": [
       "0.08005470346536026"
      ]
     },
     "execution_count": null,
     "metadata": {},
     "output_type": "execute_result"
    }
   ],
   "source": [
    "((df_market_monthly_returns['equity_curve'].iloc[-1]) ** (12 / len(df_market_monthly_returns))) - 1"
   ]
  },
  {
   "cell_type": "code",
   "execution_count": null,
   "id": "6ed49c6a-43a8-45cb-93fc-ce12fba1d2c1",
   "metadata": {},
   "outputs": [
    {
     "data": {
      "text/plain": [
       "0.633808935267311"
      ]
     },
     "execution_count": null,
     "metadata": {},
     "output_type": "execute_result"
    }
   ],
   "source": [
    "(df_market_monthly_returns[\"R1M_Usd\"].mean() / df_market_monthly_returns[\"R1M_Usd\"].std()) * np.sqrt(12)"
   ]
  },
  {
   "cell_type": "markdown",
   "id": "9fd5578e-73c3-4c68-a8d0-fbafbf7e844e",
   "metadata": {},
   "source": [
    "## Backtesting Hard Predictions Strategy with All Features"
   ]
  },
  {
   "cell_type": "code",
   "execution_count": null,
   "id": "16ba5dec-cd6f-4e1d-922f-a019925353a2",
   "metadata": {},
   "outputs": [],
   "source": [
    "df_hard_predictions = df_test[[\"date\", \"R1M_Usd\"]].copy().reset_index(drop=True)"
   ]
  },
  {
   "cell_type": "code",
   "execution_count": null,
   "id": "533927f5-4981-47ac-8c23-7b05fac07b48",
   "metadata": {},
   "outputs": [],
   "source": [
    "df_inferences_all_features = pd.read_csv(\"../data/inference_random_forest_untuned_all_features.csv\")"
   ]
  },
  {
   "cell_type": "code",
   "execution_count": null,
   "id": "29c86187-ba0e-4961-8042-c8525a204fd9",
   "metadata": {},
   "outputs": [
    {
     "data": {
      "text/html": [
       "<div>\n",
       "<style scoped>\n",
       "    .dataframe tbody tr th:only-of-type {\n",
       "        vertical-align: middle;\n",
       "    }\n",
       "\n",
       "    .dataframe tbody tr th {\n",
       "        vertical-align: top;\n",
       "    }\n",
       "\n",
       "    .dataframe thead th {\n",
       "        text-align: right;\n",
       "    }\n",
       "</style>\n",
       "<table border=\"1\" class=\"dataframe\">\n",
       "  <thead>\n",
       "    <tr style=\"text-align: right;\">\n",
       "      <th></th>\n",
       "      <th>date</th>\n",
       "      <th>R1M_Usd</th>\n",
       "      <th>hard</th>\n",
       "      <th>probability_0</th>\n",
       "      <th>probability_1</th>\n",
       "    </tr>\n",
       "  </thead>\n",
       "  <tbody>\n",
       "    <tr>\n",
       "      <th>0</th>\n",
       "      <td>2015-03-31</td>\n",
       "      <td>0.174</td>\n",
       "      <td>1.0</td>\n",
       "      <td>0.499717</td>\n",
       "      <td>0.500283</td>\n",
       "    </tr>\n",
       "    <tr>\n",
       "      <th>1</th>\n",
       "      <td>2015-04-30</td>\n",
       "      <td>-0.106</td>\n",
       "      <td>1.0</td>\n",
       "      <td>0.493392</td>\n",
       "      <td>0.506608</td>\n",
       "    </tr>\n",
       "    <tr>\n",
       "      <th>2</th>\n",
       "      <td>2015-05-31</td>\n",
       "      <td>-0.185</td>\n",
       "      <td>1.0</td>\n",
       "      <td>0.497036</td>\n",
       "      <td>0.502964</td>\n",
       "    </tr>\n",
       "    <tr>\n",
       "      <th>3</th>\n",
       "      <td>2015-06-30</td>\n",
       "      <td>-0.418</td>\n",
       "      <td>1.0</td>\n",
       "      <td>0.491069</td>\n",
       "      <td>0.508931</td>\n",
       "    </tr>\n",
       "    <tr>\n",
       "      <th>4</th>\n",
       "      <td>2015-07-31</td>\n",
       "      <td>0.575</td>\n",
       "      <td>1.0</td>\n",
       "      <td>0.485765</td>\n",
       "      <td>0.514235</td>\n",
       "    </tr>\n",
       "    <tr>\n",
       "      <th>...</th>\n",
       "      <td>...</td>\n",
       "      <td>...</td>\n",
       "      <td>...</td>\n",
       "      <td>...</td>\n",
       "      <td>...</td>\n",
       "    </tr>\n",
       "    <tr>\n",
       "      <th>70484</th>\n",
       "      <td>2018-07-31</td>\n",
       "      <td>0.028</td>\n",
       "      <td>0.0</td>\n",
       "      <td>0.547788</td>\n",
       "      <td>0.452212</td>\n",
       "    </tr>\n",
       "    <tr>\n",
       "      <th>70485</th>\n",
       "      <td>2018-08-31</td>\n",
       "      <td>-0.101</td>\n",
       "      <td>0.0</td>\n",
       "      <td>0.547826</td>\n",
       "      <td>0.452174</td>\n",
       "    </tr>\n",
       "    <tr>\n",
       "      <th>70486</th>\n",
       "      <td>2018-09-30</td>\n",
       "      <td>0.013</td>\n",
       "      <td>0.0</td>\n",
       "      <td>0.548498</td>\n",
       "      <td>0.451502</td>\n",
       "    </tr>\n",
       "    <tr>\n",
       "      <th>70487</th>\n",
       "      <td>2018-10-31</td>\n",
       "      <td>0.039</td>\n",
       "      <td>0.0</td>\n",
       "      <td>0.541317</td>\n",
       "      <td>0.458683</td>\n",
       "    </tr>\n",
       "    <tr>\n",
       "      <th>70488</th>\n",
       "      <td>2018-11-30</td>\n",
       "      <td>-0.151</td>\n",
       "      <td>0.0</td>\n",
       "      <td>0.548925</td>\n",
       "      <td>0.451075</td>\n",
       "    </tr>\n",
       "  </tbody>\n",
       "</table>\n",
       "<p>70489 rows × 5 columns</p>\n",
       "</div>"
      ],
      "text/plain": [
       "             date  R1M_Usd  hard  probability_0  probability_1\n",
       "0      2015-03-31    0.174   1.0       0.499717       0.500283\n",
       "1      2015-04-30   -0.106   1.0       0.493392       0.506608\n",
       "2      2015-05-31   -0.185   1.0       0.497036       0.502964\n",
       "3      2015-06-30   -0.418   1.0       0.491069       0.508931\n",
       "4      2015-07-31    0.575   1.0       0.485765       0.514235\n",
       "...           ...      ...   ...            ...            ...\n",
       "70484  2018-07-31    0.028   0.0       0.547788       0.452212\n",
       "70485  2018-08-31   -0.101   0.0       0.547826       0.452174\n",
       "70486  2018-09-30    0.013   0.0       0.548498       0.451502\n",
       "70487  2018-10-31    0.039   0.0       0.541317       0.458683\n",
       "70488  2018-11-30   -0.151   0.0       0.548925       0.451075\n",
       "\n",
       "[70489 rows x 5 columns]"
      ]
     },
     "execution_count": null,
     "metadata": {},
     "output_type": "execute_result"
    }
   ],
   "source": [
    "df_hard_predictions = pd.concat([df_hard_predictions, df_inferences_all_features], axis=1)\n",
    "df_hard_predictions"
   ]
  },
  {
   "cell_type": "code",
   "execution_count": null,
   "id": "65cf3385-de4b-4ce6-9126-bf408fe71573",
   "metadata": {},
   "outputs": [],
   "source": [
    "df_hard_predictions_all_features_monthly_returns = df_hard_predictions.query(\"hard==1\").groupby([\"date\"])[[\"R1M_Usd\"]].mean().reset_index()\n",
    "df_hard_predictions_all_features_monthly_returns['growth_factor'] = 1 + df_hard_predictions_all_features_monthly_returns['R1M_Usd']\n",
    "df_hard_predictions_all_features_monthly_returns['equity_curve'] = df_hard_predictions_all_features_monthly_returns['growth_factor'].cumprod()"
   ]
  },
  {
   "cell_type": "code",
   "execution_count": null,
   "id": "116c409b-451a-424f-b340-724ef914c452",
   "metadata": {},
   "outputs": [
    {
     "data": {
      "text/plain": [
       "0.09579464029372597"
      ]
     },
     "execution_count": null,
     "metadata": {},
     "output_type": "execute_result"
    }
   ],
   "source": [
    "((df_hard_predictions_all_features_monthly_returns['equity_curve'].iloc[-1]) ** (12 / len(df_hard_predictions_all_features_monthly_returns))) - 1"
   ]
  },
  {
   "cell_type": "code",
   "execution_count": null,
   "id": "d28e4020-6702-4488-bfdd-5c2b94769a71",
   "metadata": {},
   "outputs": [
    {
     "data": {
      "text/plain": [
       "0.6875318804255143"
      ]
     },
     "execution_count": null,
     "metadata": {},
     "output_type": "execute_result"
    }
   ],
   "source": [
    "(df_hard_predictions_all_features_monthly_returns[\"R1M_Usd\"].mean() / df_hard_predictions_all_features_monthly_returns[\"R1M_Usd\"].std()) * np.sqrt(12)"
   ]
  },
  {
   "cell_type": "markdown",
   "id": "390ee16e-9116-4f0c-9fa0-c0ef30874e30",
   "metadata": {},
   "source": [
    "## Backtesting Hard Predictions Strategy with Selected Features"
   ]
  },
  {
   "cell_type": "code",
   "execution_count": null,
   "id": "a882b3cd-8cd9-4f5d-8fd2-4edd941746df",
   "metadata": {},
   "outputs": [],
   "source": [
    "df_hard_predictions = df_test[[\"date\", \"R1M_Usd\"]].copy().reset_index(drop=True)"
   ]
  },
  {
   "cell_type": "code",
   "execution_count": null,
   "id": "0a74c98d-a229-4c27-942d-a4194387ae1f",
   "metadata": {},
   "outputs": [],
   "source": [
    "df_inferences_selected_features = pd.read_csv(\"../data/inference_random_forest_untuned_selected_features.csv\")"
   ]
  },
  {
   "cell_type": "code",
   "execution_count": null,
   "id": "fd9ed08f-b63d-4786-a35a-5e06fac64ce9",
   "metadata": {},
   "outputs": [
    {
     "data": {
      "text/html": [
       "<div>\n",
       "<style scoped>\n",
       "    .dataframe tbody tr th:only-of-type {\n",
       "        vertical-align: middle;\n",
       "    }\n",
       "\n",
       "    .dataframe tbody tr th {\n",
       "        vertical-align: top;\n",
       "    }\n",
       "\n",
       "    .dataframe thead th {\n",
       "        text-align: right;\n",
       "    }\n",
       "</style>\n",
       "<table border=\"1\" class=\"dataframe\">\n",
       "  <thead>\n",
       "    <tr style=\"text-align: right;\">\n",
       "      <th></th>\n",
       "      <th>date</th>\n",
       "      <th>R1M_Usd</th>\n",
       "      <th>hard</th>\n",
       "      <th>probability_0</th>\n",
       "      <th>probability_1</th>\n",
       "    </tr>\n",
       "  </thead>\n",
       "  <tbody>\n",
       "    <tr>\n",
       "      <th>0</th>\n",
       "      <td>2015-03-31</td>\n",
       "      <td>0.174</td>\n",
       "      <td>1.0</td>\n",
       "      <td>0.489014</td>\n",
       "      <td>0.510986</td>\n",
       "    </tr>\n",
       "    <tr>\n",
       "      <th>1</th>\n",
       "      <td>2015-04-30</td>\n",
       "      <td>-0.106</td>\n",
       "      <td>1.0</td>\n",
       "      <td>0.486188</td>\n",
       "      <td>0.513812</td>\n",
       "    </tr>\n",
       "    <tr>\n",
       "      <th>2</th>\n",
       "      <td>2015-05-31</td>\n",
       "      <td>-0.185</td>\n",
       "      <td>1.0</td>\n",
       "      <td>0.486254</td>\n",
       "      <td>0.513746</td>\n",
       "    </tr>\n",
       "    <tr>\n",
       "      <th>3</th>\n",
       "      <td>2015-06-30</td>\n",
       "      <td>-0.418</td>\n",
       "      <td>1.0</td>\n",
       "      <td>0.489839</td>\n",
       "      <td>0.510161</td>\n",
       "    </tr>\n",
       "    <tr>\n",
       "      <th>4</th>\n",
       "      <td>2015-07-31</td>\n",
       "      <td>0.575</td>\n",
       "      <td>1.0</td>\n",
       "      <td>0.489839</td>\n",
       "      <td>0.510161</td>\n",
       "    </tr>\n",
       "    <tr>\n",
       "      <th>...</th>\n",
       "      <td>...</td>\n",
       "      <td>...</td>\n",
       "      <td>...</td>\n",
       "      <td>...</td>\n",
       "      <td>...</td>\n",
       "    </tr>\n",
       "    <tr>\n",
       "      <th>70484</th>\n",
       "      <td>2018-07-31</td>\n",
       "      <td>0.028</td>\n",
       "      <td>0.0</td>\n",
       "      <td>0.548990</td>\n",
       "      <td>0.451010</td>\n",
       "    </tr>\n",
       "    <tr>\n",
       "      <th>70485</th>\n",
       "      <td>2018-08-31</td>\n",
       "      <td>-0.101</td>\n",
       "      <td>0.0</td>\n",
       "      <td>0.542726</td>\n",
       "      <td>0.457274</td>\n",
       "    </tr>\n",
       "    <tr>\n",
       "      <th>70486</th>\n",
       "      <td>2018-09-30</td>\n",
       "      <td>0.013</td>\n",
       "      <td>0.0</td>\n",
       "      <td>0.539801</td>\n",
       "      <td>0.460199</td>\n",
       "    </tr>\n",
       "    <tr>\n",
       "      <th>70487</th>\n",
       "      <td>2018-10-31</td>\n",
       "      <td>0.039</td>\n",
       "      <td>0.0</td>\n",
       "      <td>0.539634</td>\n",
       "      <td>0.460366</td>\n",
       "    </tr>\n",
       "    <tr>\n",
       "      <th>70488</th>\n",
       "      <td>2018-11-30</td>\n",
       "      <td>-0.151</td>\n",
       "      <td>0.0</td>\n",
       "      <td>0.541999</td>\n",
       "      <td>0.458001</td>\n",
       "    </tr>\n",
       "  </tbody>\n",
       "</table>\n",
       "<p>70489 rows × 5 columns</p>\n",
       "</div>"
      ],
      "text/plain": [
       "             date  R1M_Usd  hard  probability_0  probability_1\n",
       "0      2015-03-31    0.174   1.0       0.489014       0.510986\n",
       "1      2015-04-30   -0.106   1.0       0.486188       0.513812\n",
       "2      2015-05-31   -0.185   1.0       0.486254       0.513746\n",
       "3      2015-06-30   -0.418   1.0       0.489839       0.510161\n",
       "4      2015-07-31    0.575   1.0       0.489839       0.510161\n",
       "...           ...      ...   ...            ...            ...\n",
       "70484  2018-07-31    0.028   0.0       0.548990       0.451010\n",
       "70485  2018-08-31   -0.101   0.0       0.542726       0.457274\n",
       "70486  2018-09-30    0.013   0.0       0.539801       0.460199\n",
       "70487  2018-10-31    0.039   0.0       0.539634       0.460366\n",
       "70488  2018-11-30   -0.151   0.0       0.541999       0.458001\n",
       "\n",
       "[70489 rows x 5 columns]"
      ]
     },
     "execution_count": null,
     "metadata": {},
     "output_type": "execute_result"
    }
   ],
   "source": [
    "df_hard_predictions = pd.concat([df_hard_predictions, df_inferences_selected_features], axis=1)\n",
    "df_hard_predictions"
   ]
  },
  {
   "cell_type": "code",
   "execution_count": null,
   "id": "0a81d82d-f2fc-4c9c-a03c-f25cb7c6be9f",
   "metadata": {},
   "outputs": [],
   "source": [
    "df_hard_predictions_selected_features_monthly_returns = df_hard_predictions.query(\"hard==1\").groupby([\"date\"])[[\"R1M_Usd\"]].mean().reset_index()\n",
    "df_hard_predictions_selected_features_monthly_returns['growth_factor'] = 1 + df_hard_predictions_selected_features_monthly_returns['R1M_Usd']\n",
    "df_hard_predictions_selected_features_monthly_returns['equity_curve'] = df_hard_predictions_selected_features_monthly_returns['growth_factor'].cumprod()"
   ]
  },
  {
   "cell_type": "code",
   "execution_count": null,
   "id": "67bb9dba-3481-435f-bb06-740a3563891f",
   "metadata": {},
   "outputs": [
    {
     "data": {
      "text/plain": [
       "0.09176931678667954"
      ]
     },
     "execution_count": null,
     "metadata": {},
     "output_type": "execute_result"
    }
   ],
   "source": [
    "((df_hard_predictions_selected_features_monthly_returns['equity_curve'].iloc[-1]) ** (12 / len(df_hard_predictions_selected_features_monthly_returns))) - 1"
   ]
  },
  {
   "cell_type": "code",
   "execution_count": null,
   "id": "d42f39af-6a76-4a78-9586-c62a3a0076df",
   "metadata": {},
   "outputs": [
    {
     "data": {
      "text/plain": [
       "0.6469248883152346"
      ]
     },
     "execution_count": null,
     "metadata": {},
     "output_type": "execute_result"
    }
   ],
   "source": [
    "(df_hard_predictions_selected_features_monthly_returns[\"R1M_Usd\"].mean() / df_hard_predictions_selected_features_monthly_returns[\"R1M_Usd\"].std()) * np.sqrt(12)"
   ]
  },
  {
   "cell_type": "markdown",
   "id": "2093a0f7-41bd-4355-90db-eabac83da960",
   "metadata": {},
   "source": [
    "## Backtesting Top-200 Strategy with All Features"
   ]
  },
  {
   "cell_type": "code",
   "execution_count": null,
   "id": "e7578804-1f6d-4d53-aa23-9c16126f198f",
   "metadata": {},
   "outputs": [],
   "source": [
    "df_screen = df_test[[\"date\", \"R1M_Usd\"]].copy().reset_index(drop=True)"
   ]
  },
  {
   "cell_type": "code",
   "execution_count": null,
   "id": "76c432b9-5dce-44f4-b0fa-0cb2a48959b5",
   "metadata": {},
   "outputs": [
    {
     "data": {
      "text/html": [
       "<div>\n",
       "<style scoped>\n",
       "    .dataframe tbody tr th:only-of-type {\n",
       "        vertical-align: middle;\n",
       "    }\n",
       "\n",
       "    .dataframe tbody tr th {\n",
       "        vertical-align: top;\n",
       "    }\n",
       "\n",
       "    .dataframe thead th {\n",
       "        text-align: right;\n",
       "    }\n",
       "</style>\n",
       "<table border=\"1\" class=\"dataframe\">\n",
       "  <thead>\n",
       "    <tr style=\"text-align: right;\">\n",
       "      <th></th>\n",
       "      <th>date</th>\n",
       "      <th>R1M_Usd</th>\n",
       "      <th>hard</th>\n",
       "      <th>probability_0</th>\n",
       "      <th>probability_1</th>\n",
       "    </tr>\n",
       "  </thead>\n",
       "  <tbody>\n",
       "    <tr>\n",
       "      <th>0</th>\n",
       "      <td>2015-03-31</td>\n",
       "      <td>0.174</td>\n",
       "      <td>1.0</td>\n",
       "      <td>0.499717</td>\n",
       "      <td>0.500283</td>\n",
       "    </tr>\n",
       "    <tr>\n",
       "      <th>1</th>\n",
       "      <td>2015-04-30</td>\n",
       "      <td>-0.106</td>\n",
       "      <td>1.0</td>\n",
       "      <td>0.493392</td>\n",
       "      <td>0.506608</td>\n",
       "    </tr>\n",
       "    <tr>\n",
       "      <th>2</th>\n",
       "      <td>2015-05-31</td>\n",
       "      <td>-0.185</td>\n",
       "      <td>1.0</td>\n",
       "      <td>0.497036</td>\n",
       "      <td>0.502964</td>\n",
       "    </tr>\n",
       "    <tr>\n",
       "      <th>3</th>\n",
       "      <td>2015-06-30</td>\n",
       "      <td>-0.418</td>\n",
       "      <td>1.0</td>\n",
       "      <td>0.491069</td>\n",
       "      <td>0.508931</td>\n",
       "    </tr>\n",
       "    <tr>\n",
       "      <th>4</th>\n",
       "      <td>2015-07-31</td>\n",
       "      <td>0.575</td>\n",
       "      <td>1.0</td>\n",
       "      <td>0.485765</td>\n",
       "      <td>0.514235</td>\n",
       "    </tr>\n",
       "    <tr>\n",
       "      <th>...</th>\n",
       "      <td>...</td>\n",
       "      <td>...</td>\n",
       "      <td>...</td>\n",
       "      <td>...</td>\n",
       "      <td>...</td>\n",
       "    </tr>\n",
       "    <tr>\n",
       "      <th>70484</th>\n",
       "      <td>2018-07-31</td>\n",
       "      <td>0.028</td>\n",
       "      <td>0.0</td>\n",
       "      <td>0.547788</td>\n",
       "      <td>0.452212</td>\n",
       "    </tr>\n",
       "    <tr>\n",
       "      <th>70485</th>\n",
       "      <td>2018-08-31</td>\n",
       "      <td>-0.101</td>\n",
       "      <td>0.0</td>\n",
       "      <td>0.547826</td>\n",
       "      <td>0.452174</td>\n",
       "    </tr>\n",
       "    <tr>\n",
       "      <th>70486</th>\n",
       "      <td>2018-09-30</td>\n",
       "      <td>0.013</td>\n",
       "      <td>0.0</td>\n",
       "      <td>0.548498</td>\n",
       "      <td>0.451502</td>\n",
       "    </tr>\n",
       "    <tr>\n",
       "      <th>70487</th>\n",
       "      <td>2018-10-31</td>\n",
       "      <td>0.039</td>\n",
       "      <td>0.0</td>\n",
       "      <td>0.541317</td>\n",
       "      <td>0.458683</td>\n",
       "    </tr>\n",
       "    <tr>\n",
       "      <th>70488</th>\n",
       "      <td>2018-11-30</td>\n",
       "      <td>-0.151</td>\n",
       "      <td>0.0</td>\n",
       "      <td>0.548925</td>\n",
       "      <td>0.451075</td>\n",
       "    </tr>\n",
       "  </tbody>\n",
       "</table>\n",
       "<p>70489 rows × 5 columns</p>\n",
       "</div>"
      ],
      "text/plain": [
       "             date  R1M_Usd  hard  probability_0  probability_1\n",
       "0      2015-03-31    0.174   1.0       0.499717       0.500283\n",
       "1      2015-04-30   -0.106   1.0       0.493392       0.506608\n",
       "2      2015-05-31   -0.185   1.0       0.497036       0.502964\n",
       "3      2015-06-30   -0.418   1.0       0.491069       0.508931\n",
       "4      2015-07-31    0.575   1.0       0.485765       0.514235\n",
       "...           ...      ...   ...            ...            ...\n",
       "70484  2018-07-31    0.028   0.0       0.547788       0.452212\n",
       "70485  2018-08-31   -0.101   0.0       0.547826       0.452174\n",
       "70486  2018-09-30    0.013   0.0       0.548498       0.451502\n",
       "70487  2018-10-31    0.039   0.0       0.541317       0.458683\n",
       "70488  2018-11-30   -0.151   0.0       0.548925       0.451075\n",
       "\n",
       "[70489 rows x 5 columns]"
      ]
     },
     "execution_count": null,
     "metadata": {},
     "output_type": "execute_result"
    }
   ],
   "source": [
    "df_screen = pd.concat([df_screen, df_inferences_all_features], axis=1)\n",
    "df_screen"
   ]
  },
  {
   "cell_type": "code",
   "execution_count": null,
   "id": "6dde0918-c51b-4f3e-979f-29420e0419dc",
   "metadata": {},
   "outputs": [],
   "source": [
    "rebalance_dates = list(np.sort(df_screen[\"date\"].unique()))"
   ]
  },
  {
   "cell_type": "code",
   "execution_count": null,
   "id": "ad6f4d3b-1774-404b-b2ef-7c481ea8c37e",
   "metadata": {},
   "outputs": [
    {
     "data": {
      "text/html": [
       "<div>\n",
       "<style scoped>\n",
       "    .dataframe tbody tr th:only-of-type {\n",
       "        vertical-align: middle;\n",
       "    }\n",
       "\n",
       "    .dataframe tbody tr th {\n",
       "        vertical-align: top;\n",
       "    }\n",
       "\n",
       "    .dataframe thead th {\n",
       "        text-align: right;\n",
       "    }\n",
       "</style>\n",
       "<table border=\"1\" class=\"dataframe\">\n",
       "  <thead>\n",
       "    <tr style=\"text-align: right;\">\n",
       "      <th></th>\n",
       "      <th>date</th>\n",
       "      <th>R1M_Usd</th>\n",
       "      <th>hard</th>\n",
       "      <th>probability_0</th>\n",
       "      <th>probability_1</th>\n",
       "    </tr>\n",
       "  </thead>\n",
       "  <tbody>\n",
       "    <tr>\n",
       "      <th>3895</th>\n",
       "      <td>2013-12-31</td>\n",
       "      <td>-0.143</td>\n",
       "      <td>1.0</td>\n",
       "      <td>0.470221</td>\n",
       "      <td>0.529779</td>\n",
       "    </tr>\n",
       "    <tr>\n",
       "      <th>3652</th>\n",
       "      <td>2013-12-31</td>\n",
       "      <td>-0.068</td>\n",
       "      <td>1.0</td>\n",
       "      <td>0.471442</td>\n",
       "      <td>0.528558</td>\n",
       "    </tr>\n",
       "    <tr>\n",
       "      <th>8438</th>\n",
       "      <td>2013-12-31</td>\n",
       "      <td>-0.022</td>\n",
       "      <td>1.0</td>\n",
       "      <td>0.472757</td>\n",
       "      <td>0.527243</td>\n",
       "    </tr>\n",
       "    <tr>\n",
       "      <th>14516</th>\n",
       "      <td>2013-12-31</td>\n",
       "      <td>-0.060</td>\n",
       "      <td>1.0</td>\n",
       "      <td>0.474221</td>\n",
       "      <td>0.525779</td>\n",
       "    </tr>\n",
       "    <tr>\n",
       "      <th>3367</th>\n",
       "      <td>2013-12-31</td>\n",
       "      <td>-0.077</td>\n",
       "      <td>1.0</td>\n",
       "      <td>0.475476</td>\n",
       "      <td>0.524524</td>\n",
       "    </tr>\n",
       "    <tr>\n",
       "      <th>...</th>\n",
       "      <td>...</td>\n",
       "      <td>...</td>\n",
       "      <td>...</td>\n",
       "      <td>...</td>\n",
       "      <td>...</td>\n",
       "    </tr>\n",
       "    <tr>\n",
       "      <th>53944</th>\n",
       "      <td>2018-11-30</td>\n",
       "      <td>-0.087</td>\n",
       "      <td>1.0</td>\n",
       "      <td>0.490301</td>\n",
       "      <td>0.509699</td>\n",
       "    </tr>\n",
       "    <tr>\n",
       "      <th>17226</th>\n",
       "      <td>2018-11-30</td>\n",
       "      <td>-0.072</td>\n",
       "      <td>1.0</td>\n",
       "      <td>0.490318</td>\n",
       "      <td>0.509682</td>\n",
       "    </tr>\n",
       "    <tr>\n",
       "      <th>19586</th>\n",
       "      <td>2018-11-30</td>\n",
       "      <td>0.015</td>\n",
       "      <td>1.0</td>\n",
       "      <td>0.490341</td>\n",
       "      <td>0.509659</td>\n",
       "    </tr>\n",
       "    <tr>\n",
       "      <th>34035</th>\n",
       "      <td>2018-11-30</td>\n",
       "      <td>-0.093</td>\n",
       "      <td>1.0</td>\n",
       "      <td>0.490345</td>\n",
       "      <td>0.509655</td>\n",
       "    </tr>\n",
       "    <tr>\n",
       "      <th>37804</th>\n",
       "      <td>2018-11-30</td>\n",
       "      <td>-0.032</td>\n",
       "      <td>1.0</td>\n",
       "      <td>0.490350</td>\n",
       "      <td>0.509650</td>\n",
       "    </tr>\n",
       "  </tbody>\n",
       "</table>\n",
       "<p>12000 rows × 5 columns</p>\n",
       "</div>"
      ],
      "text/plain": [
       "             date  R1M_Usd  hard  probability_0  probability_1\n",
       "3895   2013-12-31   -0.143   1.0       0.470221       0.529779\n",
       "3652   2013-12-31   -0.068   1.0       0.471442       0.528558\n",
       "8438   2013-12-31   -0.022   1.0       0.472757       0.527243\n",
       "14516  2013-12-31   -0.060   1.0       0.474221       0.525779\n",
       "3367   2013-12-31   -0.077   1.0       0.475476       0.524524\n",
       "...           ...      ...   ...            ...            ...\n",
       "53944  2018-11-30   -0.087   1.0       0.490301       0.509699\n",
       "17226  2018-11-30   -0.072   1.0       0.490318       0.509682\n",
       "19586  2018-11-30    0.015   1.0       0.490341       0.509659\n",
       "34035  2018-11-30   -0.093   1.0       0.490345       0.509655\n",
       "37804  2018-11-30   -0.032   1.0       0.490350       0.509650\n",
       "\n",
       "[12000 rows x 5 columns]"
      ]
     },
     "execution_count": null,
     "metadata": {},
     "output_type": "execute_result"
    }
   ],
   "source": [
    "lst_trades = []\n",
    "for ix_date in rebalance_dates:\n",
    "    df = df_screen.query(\"date == @ix_date\").sort_values(by=\"probability_1\", ascending=False).head(200).copy()\n",
    "    lst_trades.append(df)\n",
    "df_trades = pd.concat(lst_trades)\n",
    "df_trades"
   ]
  },
  {
   "cell_type": "code",
   "execution_count": null,
   "id": "cf7266a9-aeed-45a3-addb-d68c284f9e21",
   "metadata": {},
   "outputs": [],
   "source": [
    "df_top_200_all_features_monthly_returns = df_trades.groupby(\"date\")[[\"R1M_Usd\"]].mean().reset_index()\n",
    "df_top_200_all_features_monthly_returns['growth_factor'] = 1 + df_top_200_all_features_monthly_returns['R1M_Usd']\n",
    "df_top_200_all_features_monthly_returns['equity_curve'] = df_top_200_all_features_monthly_returns['growth_factor'].cumprod()"
   ]
  },
  {
   "cell_type": "code",
   "execution_count": null,
   "id": "362ebbac-0c6f-4ca1-8edb-685499914606",
   "metadata": {},
   "outputs": [
    {
     "data": {
      "text/plain": [
       "0.18479709551964008"
      ]
     },
     "execution_count": null,
     "metadata": {},
     "output_type": "execute_result"
    }
   ],
   "source": [
    "((df_top_200_all_features_monthly_returns['equity_curve'].iloc[-1]) ** (12 / len(df_top_200_all_features_monthly_returns))) - 1"
   ]
  },
  {
   "cell_type": "code",
   "execution_count": null,
   "id": "ac15187b-d51e-4865-ba9f-1487fe6638fa",
   "metadata": {},
   "outputs": [
    {
     "data": {
      "text/plain": [
       "0.9738602282823526"
      ]
     },
     "execution_count": null,
     "metadata": {},
     "output_type": "execute_result"
    }
   ],
   "source": [
    "(df_top_200_all_features_monthly_returns[\"R1M_Usd\"].mean() / df_top_200_all_features_monthly_returns[\"R1M_Usd\"].std()) * np.sqrt(12)"
   ]
  },
  {
   "cell_type": "markdown",
   "id": "fcff4c7a-53a0-47ef-ac01-1856a2ea104f",
   "metadata": {},
   "source": [
    "## Backtesting Top-200 Strategy with Selected Features"
   ]
  },
  {
   "cell_type": "code",
   "execution_count": null,
   "id": "7b843fa3-6165-4416-8235-997b943c981f",
   "metadata": {},
   "outputs": [],
   "source": [
    "df_screen = df_test[[\"date\", \"R1M_Usd\"]].copy().reset_index(drop=True)"
   ]
  },
  {
   "cell_type": "code",
   "execution_count": null,
   "id": "e7564240-936f-49c6-854b-5e275b0d36ef",
   "metadata": {},
   "outputs": [
    {
     "data": {
      "text/html": [
       "<div>\n",
       "<style scoped>\n",
       "    .dataframe tbody tr th:only-of-type {\n",
       "        vertical-align: middle;\n",
       "    }\n",
       "\n",
       "    .dataframe tbody tr th {\n",
       "        vertical-align: top;\n",
       "    }\n",
       "\n",
       "    .dataframe thead th {\n",
       "        text-align: right;\n",
       "    }\n",
       "</style>\n",
       "<table border=\"1\" class=\"dataframe\">\n",
       "  <thead>\n",
       "    <tr style=\"text-align: right;\">\n",
       "      <th></th>\n",
       "      <th>date</th>\n",
       "      <th>R1M_Usd</th>\n",
       "      <th>hard</th>\n",
       "      <th>probability_0</th>\n",
       "      <th>probability_1</th>\n",
       "    </tr>\n",
       "  </thead>\n",
       "  <tbody>\n",
       "    <tr>\n",
       "      <th>0</th>\n",
       "      <td>2015-03-31</td>\n",
       "      <td>0.174</td>\n",
       "      <td>1.0</td>\n",
       "      <td>0.489014</td>\n",
       "      <td>0.510986</td>\n",
       "    </tr>\n",
       "    <tr>\n",
       "      <th>1</th>\n",
       "      <td>2015-04-30</td>\n",
       "      <td>-0.106</td>\n",
       "      <td>1.0</td>\n",
       "      <td>0.486188</td>\n",
       "      <td>0.513812</td>\n",
       "    </tr>\n",
       "    <tr>\n",
       "      <th>2</th>\n",
       "      <td>2015-05-31</td>\n",
       "      <td>-0.185</td>\n",
       "      <td>1.0</td>\n",
       "      <td>0.486254</td>\n",
       "      <td>0.513746</td>\n",
       "    </tr>\n",
       "    <tr>\n",
       "      <th>3</th>\n",
       "      <td>2015-06-30</td>\n",
       "      <td>-0.418</td>\n",
       "      <td>1.0</td>\n",
       "      <td>0.489839</td>\n",
       "      <td>0.510161</td>\n",
       "    </tr>\n",
       "    <tr>\n",
       "      <th>4</th>\n",
       "      <td>2015-07-31</td>\n",
       "      <td>0.575</td>\n",
       "      <td>1.0</td>\n",
       "      <td>0.489839</td>\n",
       "      <td>0.510161</td>\n",
       "    </tr>\n",
       "    <tr>\n",
       "      <th>...</th>\n",
       "      <td>...</td>\n",
       "      <td>...</td>\n",
       "      <td>...</td>\n",
       "      <td>...</td>\n",
       "      <td>...</td>\n",
       "    </tr>\n",
       "    <tr>\n",
       "      <th>70484</th>\n",
       "      <td>2018-07-31</td>\n",
       "      <td>0.028</td>\n",
       "      <td>0.0</td>\n",
       "      <td>0.548990</td>\n",
       "      <td>0.451010</td>\n",
       "    </tr>\n",
       "    <tr>\n",
       "      <th>70485</th>\n",
       "      <td>2018-08-31</td>\n",
       "      <td>-0.101</td>\n",
       "      <td>0.0</td>\n",
       "      <td>0.542726</td>\n",
       "      <td>0.457274</td>\n",
       "    </tr>\n",
       "    <tr>\n",
       "      <th>70486</th>\n",
       "      <td>2018-09-30</td>\n",
       "      <td>0.013</td>\n",
       "      <td>0.0</td>\n",
       "      <td>0.539801</td>\n",
       "      <td>0.460199</td>\n",
       "    </tr>\n",
       "    <tr>\n",
       "      <th>70487</th>\n",
       "      <td>2018-10-31</td>\n",
       "      <td>0.039</td>\n",
       "      <td>0.0</td>\n",
       "      <td>0.539634</td>\n",
       "      <td>0.460366</td>\n",
       "    </tr>\n",
       "    <tr>\n",
       "      <th>70488</th>\n",
       "      <td>2018-11-30</td>\n",
       "      <td>-0.151</td>\n",
       "      <td>0.0</td>\n",
       "      <td>0.541999</td>\n",
       "      <td>0.458001</td>\n",
       "    </tr>\n",
       "  </tbody>\n",
       "</table>\n",
       "<p>70489 rows × 5 columns</p>\n",
       "</div>"
      ],
      "text/plain": [
       "             date  R1M_Usd  hard  probability_0  probability_1\n",
       "0      2015-03-31    0.174   1.0       0.489014       0.510986\n",
       "1      2015-04-30   -0.106   1.0       0.486188       0.513812\n",
       "2      2015-05-31   -0.185   1.0       0.486254       0.513746\n",
       "3      2015-06-30   -0.418   1.0       0.489839       0.510161\n",
       "4      2015-07-31    0.575   1.0       0.489839       0.510161\n",
       "...           ...      ...   ...            ...            ...\n",
       "70484  2018-07-31    0.028   0.0       0.548990       0.451010\n",
       "70485  2018-08-31   -0.101   0.0       0.542726       0.457274\n",
       "70486  2018-09-30    0.013   0.0       0.539801       0.460199\n",
       "70487  2018-10-31    0.039   0.0       0.539634       0.460366\n",
       "70488  2018-11-30   -0.151   0.0       0.541999       0.458001\n",
       "\n",
       "[70489 rows x 5 columns]"
      ]
     },
     "execution_count": null,
     "metadata": {},
     "output_type": "execute_result"
    }
   ],
   "source": [
    "df_screen = pd.concat([df_screen, df_inferences_selected_features], axis=1)\n",
    "df_screen"
   ]
  },
  {
   "cell_type": "code",
   "execution_count": null,
   "id": "0972cfaf-848c-4936-ba7a-46b5c77058c2",
   "metadata": {},
   "outputs": [],
   "source": [
    "rebalance_dates = list(np.sort(df_screen[\"date\"].unique()))"
   ]
  },
  {
   "cell_type": "code",
   "execution_count": null,
   "id": "40e5297a-aa8f-4eb3-90a9-b7bcec41b3e4",
   "metadata": {},
   "outputs": [
    {
     "data": {
      "text/html": [
       "<div>\n",
       "<style scoped>\n",
       "    .dataframe tbody tr th:only-of-type {\n",
       "        vertical-align: middle;\n",
       "    }\n",
       "\n",
       "    .dataframe tbody tr th {\n",
       "        vertical-align: top;\n",
       "    }\n",
       "\n",
       "    .dataframe thead th {\n",
       "        text-align: right;\n",
       "    }\n",
       "</style>\n",
       "<table border=\"1\" class=\"dataframe\">\n",
       "  <thead>\n",
       "    <tr style=\"text-align: right;\">\n",
       "      <th></th>\n",
       "      <th>date</th>\n",
       "      <th>R1M_Usd</th>\n",
       "      <th>hard</th>\n",
       "      <th>probability_0</th>\n",
       "      <th>probability_1</th>\n",
       "    </tr>\n",
       "  </thead>\n",
       "  <tbody>\n",
       "    <tr>\n",
       "      <th>14516</th>\n",
       "      <td>2013-12-31</td>\n",
       "      <td>-0.060</td>\n",
       "      <td>1.0</td>\n",
       "      <td>0.471717</td>\n",
       "      <td>0.528283</td>\n",
       "    </tr>\n",
       "    <tr>\n",
       "      <th>14357</th>\n",
       "      <td>2013-12-31</td>\n",
       "      <td>-0.076</td>\n",
       "      <td>1.0</td>\n",
       "      <td>0.474764</td>\n",
       "      <td>0.525236</td>\n",
       "    </tr>\n",
       "    <tr>\n",
       "      <th>11241</th>\n",
       "      <td>2013-12-31</td>\n",
       "      <td>-0.057</td>\n",
       "      <td>1.0</td>\n",
       "      <td>0.476402</td>\n",
       "      <td>0.523598</td>\n",
       "    </tr>\n",
       "    <tr>\n",
       "      <th>8438</th>\n",
       "      <td>2013-12-31</td>\n",
       "      <td>-0.022</td>\n",
       "      <td>1.0</td>\n",
       "      <td>0.476753</td>\n",
       "      <td>0.523247</td>\n",
       "    </tr>\n",
       "    <tr>\n",
       "      <th>14216</th>\n",
       "      <td>2013-12-31</td>\n",
       "      <td>-0.039</td>\n",
       "      <td>1.0</td>\n",
       "      <td>0.479568</td>\n",
       "      <td>0.520432</td>\n",
       "    </tr>\n",
       "    <tr>\n",
       "      <th>...</th>\n",
       "      <td>...</td>\n",
       "      <td>...</td>\n",
       "      <td>...</td>\n",
       "      <td>...</td>\n",
       "      <td>...</td>\n",
       "    </tr>\n",
       "    <tr>\n",
       "      <th>31932</th>\n",
       "      <td>2018-11-30</td>\n",
       "      <td>-0.169</td>\n",
       "      <td>1.0</td>\n",
       "      <td>0.490727</td>\n",
       "      <td>0.509273</td>\n",
       "    </tr>\n",
       "    <tr>\n",
       "      <th>19235</th>\n",
       "      <td>2018-11-30</td>\n",
       "      <td>-0.052</td>\n",
       "      <td>1.0</td>\n",
       "      <td>0.490743</td>\n",
       "      <td>0.509257</td>\n",
       "    </tr>\n",
       "    <tr>\n",
       "      <th>29458</th>\n",
       "      <td>2018-11-30</td>\n",
       "      <td>-0.202</td>\n",
       "      <td>1.0</td>\n",
       "      <td>0.490786</td>\n",
       "      <td>0.509214</td>\n",
       "    </tr>\n",
       "    <tr>\n",
       "      <th>32761</th>\n",
       "      <td>2018-11-30</td>\n",
       "      <td>-0.225</td>\n",
       "      <td>1.0</td>\n",
       "      <td>0.490801</td>\n",
       "      <td>0.509199</td>\n",
       "    </tr>\n",
       "    <tr>\n",
       "      <th>33321</th>\n",
       "      <td>2018-11-30</td>\n",
       "      <td>-0.070</td>\n",
       "      <td>1.0</td>\n",
       "      <td>0.490819</td>\n",
       "      <td>0.509181</td>\n",
       "    </tr>\n",
       "  </tbody>\n",
       "</table>\n",
       "<p>12000 rows × 5 columns</p>\n",
       "</div>"
      ],
      "text/plain": [
       "             date  R1M_Usd  hard  probability_0  probability_1\n",
       "14516  2013-12-31   -0.060   1.0       0.471717       0.528283\n",
       "14357  2013-12-31   -0.076   1.0       0.474764       0.525236\n",
       "11241  2013-12-31   -0.057   1.0       0.476402       0.523598\n",
       "8438   2013-12-31   -0.022   1.0       0.476753       0.523247\n",
       "14216  2013-12-31   -0.039   1.0       0.479568       0.520432\n",
       "...           ...      ...   ...            ...            ...\n",
       "31932  2018-11-30   -0.169   1.0       0.490727       0.509273\n",
       "19235  2018-11-30   -0.052   1.0       0.490743       0.509257\n",
       "29458  2018-11-30   -0.202   1.0       0.490786       0.509214\n",
       "32761  2018-11-30   -0.225   1.0       0.490801       0.509199\n",
       "33321  2018-11-30   -0.070   1.0       0.490819       0.509181\n",
       "\n",
       "[12000 rows x 5 columns]"
      ]
     },
     "execution_count": null,
     "metadata": {},
     "output_type": "execute_result"
    }
   ],
   "source": [
    "lst_trades = []\n",
    "for ix_date in rebalance_dates:\n",
    "    df = df_screen.query(\"date == @ix_date\").sort_values(by=\"probability_1\", ascending=False).head(200).copy()\n",
    "    lst_trades.append(df)\n",
    "df_trades = pd.concat(lst_trades)\n",
    "df_trades"
   ]
  },
  {
   "cell_type": "code",
   "execution_count": null,
   "id": "8c1e977b-ebf0-445b-98dc-172eda0e9d88",
   "metadata": {},
   "outputs": [],
   "source": [
    "df_top_200_selected_features_monthly_returns = df_trades.groupby(\"date\")[[\"R1M_Usd\"]].mean().reset_index()\n",
    "df_top_200_selected_features_monthly_returns['growth_factor'] = 1 + df_top_200_selected_features_monthly_returns['R1M_Usd']\n",
    "df_top_200_selected_features_monthly_returns['equity_curve'] = df_top_200_selected_features_monthly_returns['growth_factor'].cumprod()"
   ]
  },
  {
   "cell_type": "code",
   "execution_count": null,
   "id": "38ccba5f-9966-4cfa-8de4-3549023ad686",
   "metadata": {},
   "outputs": [
    {
     "data": {
      "text/plain": [
       "0.15409358555484154"
      ]
     },
     "execution_count": null,
     "metadata": {},
     "output_type": "execute_result"
    }
   ],
   "source": [
    "((df_top_200_selected_features_monthly_returns['equity_curve'].iloc[-1]) ** (12 / len(df_top_200_selected_features_monthly_returns))) - 1"
   ]
  },
  {
   "cell_type": "code",
   "execution_count": null,
   "id": "c5da8f77-29d1-4322-8423-c19b4f56898b",
   "metadata": {},
   "outputs": [
    {
     "data": {
      "text/plain": [
       "0.8374881081242436"
      ]
     },
     "execution_count": null,
     "metadata": {},
     "output_type": "execute_result"
    }
   ],
   "source": [
    "(df_top_200_selected_features_monthly_returns[\"R1M_Usd\"].mean() / df_top_200_selected_features_monthly_returns[\"R1M_Usd\"].std()) * np.sqrt(12)"
   ]
  }
 ],
 "metadata": {
  "kernelspec": {
   "display_name": "python3",
   "language": "python",
   "name": "python3"
  }
 },
 "nbformat": 4,
 "nbformat_minor": 5
}
