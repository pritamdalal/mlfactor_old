{
 "cells": [
  {
   "cell_type": "markdown",
   "id": "ab15e39b-f1a0-4ffa-a746-9992e1a49a98",
   "metadata": {},
   "source": [
    "## Importing Packages"
   ]
  },
  {
   "cell_type": "code",
   "execution_count": null,
   "id": "75d6cb8c-7342-4e74-938a-ca2809fd2551",
   "metadata": {},
   "outputs": [],
   "source": [
    "import numpy as np\n",
    "import pandas as pd"
   ]
  },
  {
   "cell_type": "markdown",
   "id": "71b77ded-ed8f-4470-b2ae-1eca136793b2",
   "metadata": {},
   "source": [
    "## Reading and Separating Data"
   ]
  },
  {
   "cell_type": "code",
   "execution_count": null,
   "id": "6287ab34-ee32-4dfa-847d-f65a48a4323f",
   "metadata": {},
   "outputs": [],
   "source": [
    "df_ml = pd.read_csv(\"../data/data_ml.csv\")"
   ]
  },
  {
   "cell_type": "code",
   "execution_count": null,
   "id": "7f1d898f-0a14-4906-964a-60ecd4f103eb",
   "metadata": {},
   "outputs": [],
   "source": [
    "separation_date = \"2013-12-31\"\n",
    "df_train = df_ml.query(\"date < @separation_date\").copy()\n",
    "df_test = df_ml.query(\"@separation_date <= date & date < '2018-12-31'\").copy()"
   ]
  },
  {
   "cell_type": "code",
   "execution_count": null,
   "id": "638e46fc-f4ab-408e-a017-17b9c6881102",
   "metadata": {},
   "outputs": [],
   "source": [
    "columns_to_drop = [\n",
    "    \"stock_id\", \"date\", # non-feature identifiers\n",
    "    \"R1M_Usd\", \"R3M_Usd\", \"R6M_Usd\", \"R12M_Usd\", # numerical labels\n",
    "    \"R1M_Usd_C\", \"R12M_Usd_C\" # categorical labels\n",
    "]\n",
    "\n",
    "features = list(df_ml.drop(columns=columns_to_drop).columns)"
   ]
  },
  {
   "cell_type": "code",
   "execution_count": null,
   "id": "9117e30a-1520-4d52-a883-e69af959d3ac",
   "metadata": {},
   "outputs": [],
   "source": [
    "X_train = df_train[features]\n",
    "y_train = df_train[\"R1M_Usd_C\"]"
   ]
  },
  {
   "cell_type": "code",
   "execution_count": null,
   "id": "3eb7ba03-fa52-4b89-a1d2-4b998243e08d",
   "metadata": {},
   "outputs": [],
   "source": [
    "X_test = df_test[features]\n",
    "y_test = df_test[\"R1M_Usd_C\"]"
   ]
  },
  {
   "cell_type": "code",
   "execution_count": null,
   "id": "f08f9a6e-bd22-44da-846c-3e516d384c3f",
   "metadata": {},
   "outputs": [],
   "source": [
    "df_features_selected = pd.read_csv(\"../data/features_selected.csv\")\n",
    "features_selected = list(df_features_selected[\"feature\"].values)"
   ]
  },
  {
   "cell_type": "markdown",
   "id": "362399da-cb03-41d2-b7f0-59afcfe035c8",
   "metadata": {},
   "source": [
    "## Backtesting Equally Weighted Market Portfolio"
   ]
  },
  {
   "cell_type": "code",
   "execution_count": null,
   "id": "8cbf17e3-76fd-4a1b-94f5-b1a7c71de371",
   "metadata": {},
   "outputs": [],
   "source": [
    "df_market = df_test[[\"date\", \"R1M_Usd\"]].copy().reset_index(drop=True)"
   ]
  },
  {
   "cell_type": "code",
   "execution_count": null,
   "id": "f7226fd4-cdf5-46e7-9393-5a59d0508fbc",
   "metadata": {},
   "outputs": [],
   "source": [
    "df_market_monthly_returns = df_market.groupby([\"date\"])[[\"R1M_Usd\"]].mean().reset_index()\n",
    "df_market_monthly_returns['growth_factor'] = 1 + df_market_monthly_returns['R1M_Usd']\n",
    "df_market_monthly_returns['equity_curve'] = df_market_monthly_returns['growth_factor'].cumprod()"
   ]
  },
  {
   "cell_type": "code",
   "execution_count": null,
   "id": "f896aced-17e1-48f1-ab62-9585ca80f9e0",
   "metadata": {},
   "outputs": [
    {
     "data": {
      "text/plain": [
       "0.08005470346536026"
      ]
     },
     "execution_count": null,
     "metadata": {},
     "output_type": "execute_result"
    }
   ],
   "source": [
    "((df_market_monthly_returns['equity_curve'].iloc[-1]) ** (12 / len(df_market_monthly_returns))) - 1"
   ]
  },
  {
   "cell_type": "code",
   "execution_count": null,
   "id": "6ed49c6a-43a8-45cb-93fc-ce12fba1d2c1",
   "metadata": {},
   "outputs": [
    {
     "data": {
      "text/plain": [
       "0.633808935267311"
      ]
     },
     "execution_count": null,
     "metadata": {},
     "output_type": "execute_result"
    }
   ],
   "source": [
    "(df_market_monthly_returns[\"R1M_Usd\"].mean() / df_market_monthly_returns[\"R1M_Usd\"].std()) * np.sqrt(12)"
   ]
  },
  {
   "cell_type": "markdown",
   "id": "9fd5578e-73c3-4c68-a8d0-fbafbf7e844e",
   "metadata": {},
   "source": [
    "## Backtesting Hard Predictions Strategy with All Features"
   ]
  },
  {
   "cell_type": "code",
   "execution_count": null,
   "id": "16ba5dec-cd6f-4e1d-922f-a019925353a2",
   "metadata": {},
   "outputs": [],
   "source": [
    "df_hard_predictions = df_test[[\"date\", \"R1M_Usd\"]].copy().reset_index(drop=True)"
   ]
  },
  {
   "cell_type": "code",
   "execution_count": null,
   "id": "533927f5-4981-47ac-8c23-7b05fac07b48",
   "metadata": {},
   "outputs": [],
   "source": [
    "df_inferences_all_features = pd.read_csv(\"../data/inference_logistic_regression_all_features.csv\")"
   ]
  },
  {
   "cell_type": "code",
   "execution_count": null,
   "id": "29c86187-ba0e-4961-8042-c8525a204fd9",
   "metadata": {},
   "outputs": [
    {
     "data": {
      "text/html": [
       "<div>\n",
       "<style scoped>\n",
       "    .dataframe tbody tr th:only-of-type {\n",
       "        vertical-align: middle;\n",
       "    }\n",
       "\n",
       "    .dataframe tbody tr th {\n",
       "        vertical-align: top;\n",
       "    }\n",
       "\n",
       "    .dataframe thead th {\n",
       "        text-align: right;\n",
       "    }\n",
       "</style>\n",
       "<table border=\"1\" class=\"dataframe\">\n",
       "  <thead>\n",
       "    <tr style=\"text-align: right;\">\n",
       "      <th></th>\n",
       "      <th>date</th>\n",
       "      <th>R1M_Usd</th>\n",
       "      <th>hard</th>\n",
       "      <th>probability_0</th>\n",
       "      <th>probability_1</th>\n",
       "    </tr>\n",
       "  </thead>\n",
       "  <tbody>\n",
       "    <tr>\n",
       "      <th>0</th>\n",
       "      <td>2015-03-31</td>\n",
       "      <td>0.174</td>\n",
       "      <td>1.0</td>\n",
       "      <td>0.470104</td>\n",
       "      <td>0.529896</td>\n",
       "    </tr>\n",
       "    <tr>\n",
       "      <th>1</th>\n",
       "      <td>2015-04-30</td>\n",
       "      <td>-0.106</td>\n",
       "      <td>1.0</td>\n",
       "      <td>0.470435</td>\n",
       "      <td>0.529565</td>\n",
       "    </tr>\n",
       "    <tr>\n",
       "      <th>2</th>\n",
       "      <td>2015-05-31</td>\n",
       "      <td>-0.185</td>\n",
       "      <td>1.0</td>\n",
       "      <td>0.470004</td>\n",
       "      <td>0.529996</td>\n",
       "    </tr>\n",
       "    <tr>\n",
       "      <th>3</th>\n",
       "      <td>2015-06-30</td>\n",
       "      <td>-0.418</td>\n",
       "      <td>1.0</td>\n",
       "      <td>0.459854</td>\n",
       "      <td>0.540146</td>\n",
       "    </tr>\n",
       "    <tr>\n",
       "      <th>4</th>\n",
       "      <td>2015-07-31</td>\n",
       "      <td>0.575</td>\n",
       "      <td>1.0</td>\n",
       "      <td>0.457712</td>\n",
       "      <td>0.542288</td>\n",
       "    </tr>\n",
       "    <tr>\n",
       "      <th>...</th>\n",
       "      <td>...</td>\n",
       "      <td>...</td>\n",
       "      <td>...</td>\n",
       "      <td>...</td>\n",
       "      <td>...</td>\n",
       "    </tr>\n",
       "    <tr>\n",
       "      <th>70484</th>\n",
       "      <td>2018-07-31</td>\n",
       "      <td>0.028</td>\n",
       "      <td>0.0</td>\n",
       "      <td>0.541795</td>\n",
       "      <td>0.458205</td>\n",
       "    </tr>\n",
       "    <tr>\n",
       "      <th>70485</th>\n",
       "      <td>2018-08-31</td>\n",
       "      <td>-0.101</td>\n",
       "      <td>0.0</td>\n",
       "      <td>0.540781</td>\n",
       "      <td>0.459219</td>\n",
       "    </tr>\n",
       "    <tr>\n",
       "      <th>70486</th>\n",
       "      <td>2018-09-30</td>\n",
       "      <td>0.013</td>\n",
       "      <td>0.0</td>\n",
       "      <td>0.508696</td>\n",
       "      <td>0.491304</td>\n",
       "    </tr>\n",
       "    <tr>\n",
       "      <th>70487</th>\n",
       "      <td>2018-10-31</td>\n",
       "      <td>0.039</td>\n",
       "      <td>0.0</td>\n",
       "      <td>0.506801</td>\n",
       "      <td>0.493199</td>\n",
       "    </tr>\n",
       "    <tr>\n",
       "      <th>70488</th>\n",
       "      <td>2018-11-30</td>\n",
       "      <td>-0.151</td>\n",
       "      <td>0.0</td>\n",
       "      <td>0.513304</td>\n",
       "      <td>0.486696</td>\n",
       "    </tr>\n",
       "  </tbody>\n",
       "</table>\n",
       "<p>70489 rows × 5 columns</p>\n",
       "</div>"
      ],
      "text/plain": [
       "             date  R1M_Usd  hard  probability_0  probability_1\n",
       "0      2015-03-31    0.174   1.0       0.470104       0.529896\n",
       "1      2015-04-30   -0.106   1.0       0.470435       0.529565\n",
       "2      2015-05-31   -0.185   1.0       0.470004       0.529996\n",
       "3      2015-06-30   -0.418   1.0       0.459854       0.540146\n",
       "4      2015-07-31    0.575   1.0       0.457712       0.542288\n",
       "...           ...      ...   ...            ...            ...\n",
       "70484  2018-07-31    0.028   0.0       0.541795       0.458205\n",
       "70485  2018-08-31   -0.101   0.0       0.540781       0.459219\n",
       "70486  2018-09-30    0.013   0.0       0.508696       0.491304\n",
       "70487  2018-10-31    0.039   0.0       0.506801       0.493199\n",
       "70488  2018-11-30   -0.151   0.0       0.513304       0.486696\n",
       "\n",
       "[70489 rows x 5 columns]"
      ]
     },
     "execution_count": null,
     "metadata": {},
     "output_type": "execute_result"
    }
   ],
   "source": [
    "df_hard_predictions = pd.concat([df_hard_predictions, df_inferences_all_features], axis=1)\n",
    "df_hard_predictions"
   ]
  },
  {
   "cell_type": "code",
   "execution_count": null,
   "id": "65cf3385-de4b-4ce6-9126-bf408fe71573",
   "metadata": {},
   "outputs": [],
   "source": [
    "df_hard_predictions_all_features_monthly_returns = df_hard_predictions.query(\"hard==1\").groupby([\"date\"])[[\"R1M_Usd\"]].mean().reset_index()\n",
    "df_hard_predictions_all_features_monthly_returns['growth_factor'] = 1 + df_hard_predictions_all_features_monthly_returns['R1M_Usd']\n",
    "df_hard_predictions_all_features_monthly_returns['equity_curve'] = df_hard_predictions_all_features_monthly_returns['growth_factor'].cumprod()"
   ]
  },
  {
   "cell_type": "code",
   "execution_count": null,
   "id": "116c409b-451a-424f-b340-724ef914c452",
   "metadata": {},
   "outputs": [
    {
     "data": {
      "text/plain": [
       "0.09659453049076672"
      ]
     },
     "execution_count": null,
     "metadata": {},
     "output_type": "execute_result"
    }
   ],
   "source": [
    "((df_hard_predictions_all_features_monthly_returns['equity_curve'].iloc[-1]) ** (12 / len(df_hard_predictions_all_features_monthly_returns))) - 1"
   ]
  },
  {
   "cell_type": "code",
   "execution_count": null,
   "id": "d28e4020-6702-4488-bfdd-5c2b94769a71",
   "metadata": {},
   "outputs": [
    {
     "data": {
      "text/plain": [
       "0.671668754158758"
      ]
     },
     "execution_count": null,
     "metadata": {},
     "output_type": "execute_result"
    }
   ],
   "source": [
    "(df_hard_predictions_all_features_monthly_returns[\"R1M_Usd\"].mean() / df_hard_predictions_all_features_monthly_returns[\"R1M_Usd\"].std()) * np.sqrt(12)"
   ]
  },
  {
   "cell_type": "markdown",
   "id": "390ee16e-9116-4f0c-9fa0-c0ef30874e30",
   "metadata": {},
   "source": [
    "## Backtesting Hard Predictions Strategy with Selected Features"
   ]
  },
  {
   "cell_type": "code",
   "execution_count": null,
   "id": "a882b3cd-8cd9-4f5d-8fd2-4edd941746df",
   "metadata": {},
   "outputs": [],
   "source": [
    "df_hard_predictions = df_test[[\"date\", \"R1M_Usd\"]].copy().reset_index(drop=True)"
   ]
  },
  {
   "cell_type": "code",
   "execution_count": null,
   "id": "0a74c98d-a229-4c27-942d-a4194387ae1f",
   "metadata": {},
   "outputs": [],
   "source": [
    "df_inferences_selected_features = pd.read_csv(\"../data/inference_logistic_regression_selected_features.csv\")"
   ]
  },
  {
   "cell_type": "code",
   "execution_count": null,
   "id": "fd9ed08f-b63d-4786-a35a-5e06fac64ce9",
   "metadata": {},
   "outputs": [
    {
     "data": {
      "text/html": [
       "<div>\n",
       "<style scoped>\n",
       "    .dataframe tbody tr th:only-of-type {\n",
       "        vertical-align: middle;\n",
       "    }\n",
       "\n",
       "    .dataframe tbody tr th {\n",
       "        vertical-align: top;\n",
       "    }\n",
       "\n",
       "    .dataframe thead th {\n",
       "        text-align: right;\n",
       "    }\n",
       "</style>\n",
       "<table border=\"1\" class=\"dataframe\">\n",
       "  <thead>\n",
       "    <tr style=\"text-align: right;\">\n",
       "      <th></th>\n",
       "      <th>date</th>\n",
       "      <th>R1M_Usd</th>\n",
       "      <th>hard</th>\n",
       "      <th>probability_0</th>\n",
       "      <th>probability_1</th>\n",
       "    </tr>\n",
       "  </thead>\n",
       "  <tbody>\n",
       "    <tr>\n",
       "      <th>0</th>\n",
       "      <td>2015-03-31</td>\n",
       "      <td>0.174</td>\n",
       "      <td>1.0</td>\n",
       "      <td>0.469486</td>\n",
       "      <td>0.530514</td>\n",
       "    </tr>\n",
       "    <tr>\n",
       "      <th>1</th>\n",
       "      <td>2015-04-30</td>\n",
       "      <td>-0.106</td>\n",
       "      <td>1.0</td>\n",
       "      <td>0.469902</td>\n",
       "      <td>0.530098</td>\n",
       "    </tr>\n",
       "    <tr>\n",
       "      <th>2</th>\n",
       "      <td>2015-05-31</td>\n",
       "      <td>-0.185</td>\n",
       "      <td>1.0</td>\n",
       "      <td>0.468476</td>\n",
       "      <td>0.531524</td>\n",
       "    </tr>\n",
       "    <tr>\n",
       "      <th>3</th>\n",
       "      <td>2015-06-30</td>\n",
       "      <td>-0.418</td>\n",
       "      <td>1.0</td>\n",
       "      <td>0.475378</td>\n",
       "      <td>0.524622</td>\n",
       "    </tr>\n",
       "    <tr>\n",
       "      <th>4</th>\n",
       "      <td>2015-07-31</td>\n",
       "      <td>0.575</td>\n",
       "      <td>1.0</td>\n",
       "      <td>0.471177</td>\n",
       "      <td>0.528823</td>\n",
       "    </tr>\n",
       "    <tr>\n",
       "      <th>...</th>\n",
       "      <td>...</td>\n",
       "      <td>...</td>\n",
       "      <td>...</td>\n",
       "      <td>...</td>\n",
       "      <td>...</td>\n",
       "    </tr>\n",
       "    <tr>\n",
       "      <th>70484</th>\n",
       "      <td>2018-07-31</td>\n",
       "      <td>0.028</td>\n",
       "      <td>0.0</td>\n",
       "      <td>0.527576</td>\n",
       "      <td>0.472424</td>\n",
       "    </tr>\n",
       "    <tr>\n",
       "      <th>70485</th>\n",
       "      <td>2018-08-31</td>\n",
       "      <td>-0.101</td>\n",
       "      <td>0.0</td>\n",
       "      <td>0.531423</td>\n",
       "      <td>0.468577</td>\n",
       "    </tr>\n",
       "    <tr>\n",
       "      <th>70486</th>\n",
       "      <td>2018-09-30</td>\n",
       "      <td>0.013</td>\n",
       "      <td>0.0</td>\n",
       "      <td>0.516458</td>\n",
       "      <td>0.483542</td>\n",
       "    </tr>\n",
       "    <tr>\n",
       "      <th>70487</th>\n",
       "      <td>2018-10-31</td>\n",
       "      <td>0.039</td>\n",
       "      <td>0.0</td>\n",
       "      <td>0.509134</td>\n",
       "      <td>0.490866</td>\n",
       "    </tr>\n",
       "    <tr>\n",
       "      <th>70488</th>\n",
       "      <td>2018-11-30</td>\n",
       "      <td>-0.151</td>\n",
       "      <td>0.0</td>\n",
       "      <td>0.518961</td>\n",
       "      <td>0.481039</td>\n",
       "    </tr>\n",
       "  </tbody>\n",
       "</table>\n",
       "<p>70489 rows × 5 columns</p>\n",
       "</div>"
      ],
      "text/plain": [
       "             date  R1M_Usd  hard  probability_0  probability_1\n",
       "0      2015-03-31    0.174   1.0       0.469486       0.530514\n",
       "1      2015-04-30   -0.106   1.0       0.469902       0.530098\n",
       "2      2015-05-31   -0.185   1.0       0.468476       0.531524\n",
       "3      2015-06-30   -0.418   1.0       0.475378       0.524622\n",
       "4      2015-07-31    0.575   1.0       0.471177       0.528823\n",
       "...           ...      ...   ...            ...            ...\n",
       "70484  2018-07-31    0.028   0.0       0.527576       0.472424\n",
       "70485  2018-08-31   -0.101   0.0       0.531423       0.468577\n",
       "70486  2018-09-30    0.013   0.0       0.516458       0.483542\n",
       "70487  2018-10-31    0.039   0.0       0.509134       0.490866\n",
       "70488  2018-11-30   -0.151   0.0       0.518961       0.481039\n",
       "\n",
       "[70489 rows x 5 columns]"
      ]
     },
     "execution_count": null,
     "metadata": {},
     "output_type": "execute_result"
    }
   ],
   "source": [
    "df_hard_predictions = pd.concat([df_hard_predictions, df_inferences_selected_features], axis=1)\n",
    "df_hard_predictions"
   ]
  },
  {
   "cell_type": "code",
   "execution_count": null,
   "id": "0a81d82d-f2fc-4c9c-a03c-f25cb7c6be9f",
   "metadata": {},
   "outputs": [],
   "source": [
    "df_hard_predictions_selected_features_monthly_returns = df_hard_predictions.query(\"hard==1\").groupby([\"date\"])[[\"R1M_Usd\"]].mean().reset_index()\n",
    "df_hard_predictions_selected_features_monthly_returns['growth_factor'] = 1 + df_hard_predictions_selected_features_monthly_returns['R1M_Usd']\n",
    "df_hard_predictions_selected_features_monthly_returns['equity_curve'] = df_hard_predictions_selected_features_monthly_returns['growth_factor'].cumprod()"
   ]
  },
  {
   "cell_type": "code",
   "execution_count": null,
   "id": "67bb9dba-3481-435f-bb06-740a3563891f",
   "metadata": {},
   "outputs": [
    {
     "data": {
      "text/plain": [
       "0.10265756213460264"
      ]
     },
     "execution_count": null,
     "metadata": {},
     "output_type": "execute_result"
    }
   ],
   "source": [
    "((df_hard_predictions_selected_features_monthly_returns['equity_curve'].iloc[-1]) ** (12 / len(df_hard_predictions_selected_features_monthly_returns))) - 1"
   ]
  },
  {
   "cell_type": "code",
   "execution_count": null,
   "id": "d42f39af-6a76-4a78-9586-c62a3a0076df",
   "metadata": {},
   "outputs": [
    {
     "data": {
      "text/plain": [
       "0.7129060010350087"
      ]
     },
     "execution_count": null,
     "metadata": {},
     "output_type": "execute_result"
    }
   ],
   "source": [
    "(df_hard_predictions_selected_features_monthly_returns[\"R1M_Usd\"].mean() / df_hard_predictions_selected_features_monthly_returns[\"R1M_Usd\"].std()) * np.sqrt(12)"
   ]
  },
  {
   "cell_type": "markdown",
   "id": "2093a0f7-41bd-4355-90db-eabac83da960",
   "metadata": {},
   "source": [
    "## Backtesting Top-200 Strategy with All Features"
   ]
  },
  {
   "cell_type": "code",
   "execution_count": null,
   "id": "e7578804-1f6d-4d53-aa23-9c16126f198f",
   "metadata": {},
   "outputs": [],
   "source": [
    "df_screen = df_test[[\"date\", \"R1M_Usd\"]].copy().reset_index(drop=True)"
   ]
  },
  {
   "cell_type": "code",
   "execution_count": null,
   "id": "76c432b9-5dce-44f4-b0fa-0cb2a48959b5",
   "metadata": {},
   "outputs": [
    {
     "data": {
      "text/html": [
       "<div>\n",
       "<style scoped>\n",
       "    .dataframe tbody tr th:only-of-type {\n",
       "        vertical-align: middle;\n",
       "    }\n",
       "\n",
       "    .dataframe tbody tr th {\n",
       "        vertical-align: top;\n",
       "    }\n",
       "\n",
       "    .dataframe thead th {\n",
       "        text-align: right;\n",
       "    }\n",
       "</style>\n",
       "<table border=\"1\" class=\"dataframe\">\n",
       "  <thead>\n",
       "    <tr style=\"text-align: right;\">\n",
       "      <th></th>\n",
       "      <th>date</th>\n",
       "      <th>R1M_Usd</th>\n",
       "      <th>hard</th>\n",
       "      <th>probability_0</th>\n",
       "      <th>probability_1</th>\n",
       "    </tr>\n",
       "  </thead>\n",
       "  <tbody>\n",
       "    <tr>\n",
       "      <th>0</th>\n",
       "      <td>2015-03-31</td>\n",
       "      <td>0.174</td>\n",
       "      <td>1.0</td>\n",
       "      <td>0.470104</td>\n",
       "      <td>0.529896</td>\n",
       "    </tr>\n",
       "    <tr>\n",
       "      <th>1</th>\n",
       "      <td>2015-04-30</td>\n",
       "      <td>-0.106</td>\n",
       "      <td>1.0</td>\n",
       "      <td>0.470435</td>\n",
       "      <td>0.529565</td>\n",
       "    </tr>\n",
       "    <tr>\n",
       "      <th>2</th>\n",
       "      <td>2015-05-31</td>\n",
       "      <td>-0.185</td>\n",
       "      <td>1.0</td>\n",
       "      <td>0.470004</td>\n",
       "      <td>0.529996</td>\n",
       "    </tr>\n",
       "    <tr>\n",
       "      <th>3</th>\n",
       "      <td>2015-06-30</td>\n",
       "      <td>-0.418</td>\n",
       "      <td>1.0</td>\n",
       "      <td>0.459854</td>\n",
       "      <td>0.540146</td>\n",
       "    </tr>\n",
       "    <tr>\n",
       "      <th>4</th>\n",
       "      <td>2015-07-31</td>\n",
       "      <td>0.575</td>\n",
       "      <td>1.0</td>\n",
       "      <td>0.457712</td>\n",
       "      <td>0.542288</td>\n",
       "    </tr>\n",
       "    <tr>\n",
       "      <th>...</th>\n",
       "      <td>...</td>\n",
       "      <td>...</td>\n",
       "      <td>...</td>\n",
       "      <td>...</td>\n",
       "      <td>...</td>\n",
       "    </tr>\n",
       "    <tr>\n",
       "      <th>70484</th>\n",
       "      <td>2018-07-31</td>\n",
       "      <td>0.028</td>\n",
       "      <td>0.0</td>\n",
       "      <td>0.541795</td>\n",
       "      <td>0.458205</td>\n",
       "    </tr>\n",
       "    <tr>\n",
       "      <th>70485</th>\n",
       "      <td>2018-08-31</td>\n",
       "      <td>-0.101</td>\n",
       "      <td>0.0</td>\n",
       "      <td>0.540781</td>\n",
       "      <td>0.459219</td>\n",
       "    </tr>\n",
       "    <tr>\n",
       "      <th>70486</th>\n",
       "      <td>2018-09-30</td>\n",
       "      <td>0.013</td>\n",
       "      <td>0.0</td>\n",
       "      <td>0.508696</td>\n",
       "      <td>0.491304</td>\n",
       "    </tr>\n",
       "    <tr>\n",
       "      <th>70487</th>\n",
       "      <td>2018-10-31</td>\n",
       "      <td>0.039</td>\n",
       "      <td>0.0</td>\n",
       "      <td>0.506801</td>\n",
       "      <td>0.493199</td>\n",
       "    </tr>\n",
       "    <tr>\n",
       "      <th>70488</th>\n",
       "      <td>2018-11-30</td>\n",
       "      <td>-0.151</td>\n",
       "      <td>0.0</td>\n",
       "      <td>0.513304</td>\n",
       "      <td>0.486696</td>\n",
       "    </tr>\n",
       "  </tbody>\n",
       "</table>\n",
       "<p>70489 rows × 5 columns</p>\n",
       "</div>"
      ],
      "text/plain": [
       "             date  R1M_Usd  hard  probability_0  probability_1\n",
       "0      2015-03-31    0.174   1.0       0.470104       0.529896\n",
       "1      2015-04-30   -0.106   1.0       0.470435       0.529565\n",
       "2      2015-05-31   -0.185   1.0       0.470004       0.529996\n",
       "3      2015-06-30   -0.418   1.0       0.459854       0.540146\n",
       "4      2015-07-31    0.575   1.0       0.457712       0.542288\n",
       "...           ...      ...   ...            ...            ...\n",
       "70484  2018-07-31    0.028   0.0       0.541795       0.458205\n",
       "70485  2018-08-31   -0.101   0.0       0.540781       0.459219\n",
       "70486  2018-09-30    0.013   0.0       0.508696       0.491304\n",
       "70487  2018-10-31    0.039   0.0       0.506801       0.493199\n",
       "70488  2018-11-30   -0.151   0.0       0.513304       0.486696\n",
       "\n",
       "[70489 rows x 5 columns]"
      ]
     },
     "execution_count": null,
     "metadata": {},
     "output_type": "execute_result"
    }
   ],
   "source": [
    "df_screen = pd.concat([df_screen, df_inferences_all_features], axis=1)\n",
    "df_screen"
   ]
  },
  {
   "cell_type": "code",
   "execution_count": null,
   "id": "6dde0918-c51b-4f3e-979f-29420e0419dc",
   "metadata": {},
   "outputs": [],
   "source": [
    "rebalance_dates = list(np.sort(df_screen[\"date\"].unique()))"
   ]
  },
  {
   "cell_type": "code",
   "execution_count": null,
   "id": "ad6f4d3b-1774-404b-b2ef-7c481ea8c37e",
   "metadata": {},
   "outputs": [
    {
     "data": {
      "text/html": [
       "<div>\n",
       "<style scoped>\n",
       "    .dataframe tbody tr th:only-of-type {\n",
       "        vertical-align: middle;\n",
       "    }\n",
       "\n",
       "    .dataframe tbody tr th {\n",
       "        vertical-align: top;\n",
       "    }\n",
       "\n",
       "    .dataframe thead th {\n",
       "        text-align: right;\n",
       "    }\n",
       "</style>\n",
       "<table border=\"1\" class=\"dataframe\">\n",
       "  <thead>\n",
       "    <tr style=\"text-align: right;\">\n",
       "      <th></th>\n",
       "      <th>date</th>\n",
       "      <th>R1M_Usd</th>\n",
       "      <th>hard</th>\n",
       "      <th>probability_0</th>\n",
       "      <th>probability_1</th>\n",
       "    </tr>\n",
       "  </thead>\n",
       "  <tbody>\n",
       "    <tr>\n",
       "      <th>1271</th>\n",
       "      <td>2013-12-31</td>\n",
       "      <td>-0.055</td>\n",
       "      <td>1.0</td>\n",
       "      <td>0.394118</td>\n",
       "      <td>0.605882</td>\n",
       "    </tr>\n",
       "    <tr>\n",
       "      <th>28623</th>\n",
       "      <td>2013-12-31</td>\n",
       "      <td>0.114</td>\n",
       "      <td>1.0</td>\n",
       "      <td>0.394824</td>\n",
       "      <td>0.605176</td>\n",
       "    </tr>\n",
       "    <tr>\n",
       "      <th>64379</th>\n",
       "      <td>2013-12-31</td>\n",
       "      <td>0.080</td>\n",
       "      <td>1.0</td>\n",
       "      <td>0.397836</td>\n",
       "      <td>0.602164</td>\n",
       "    </tr>\n",
       "    <tr>\n",
       "      <th>34486</th>\n",
       "      <td>2013-12-31</td>\n",
       "      <td>-0.035</td>\n",
       "      <td>1.0</td>\n",
       "      <td>0.411254</td>\n",
       "      <td>0.588746</td>\n",
       "    </tr>\n",
       "    <tr>\n",
       "      <th>51090</th>\n",
       "      <td>2013-12-31</td>\n",
       "      <td>0.033</td>\n",
       "      <td>1.0</td>\n",
       "      <td>0.412173</td>\n",
       "      <td>0.587827</td>\n",
       "    </tr>\n",
       "    <tr>\n",
       "      <th>...</th>\n",
       "      <td>...</td>\n",
       "      <td>...</td>\n",
       "      <td>...</td>\n",
       "      <td>...</td>\n",
       "      <td>...</td>\n",
       "    </tr>\n",
       "    <tr>\n",
       "      <th>63821</th>\n",
       "      <td>2018-11-30</td>\n",
       "      <td>-0.206</td>\n",
       "      <td>1.0</td>\n",
       "      <td>0.472301</td>\n",
       "      <td>0.527699</td>\n",
       "    </tr>\n",
       "    <tr>\n",
       "      <th>11857</th>\n",
       "      <td>2018-11-30</td>\n",
       "      <td>-0.155</td>\n",
       "      <td>1.0</td>\n",
       "      <td>0.472338</td>\n",
       "      <td>0.527662</td>\n",
       "    </tr>\n",
       "    <tr>\n",
       "      <th>32520</th>\n",
       "      <td>2018-11-30</td>\n",
       "      <td>-0.313</td>\n",
       "      <td>1.0</td>\n",
       "      <td>0.472515</td>\n",
       "      <td>0.527485</td>\n",
       "    </tr>\n",
       "    <tr>\n",
       "      <th>31282</th>\n",
       "      <td>2018-11-30</td>\n",
       "      <td>-0.100</td>\n",
       "      <td>1.0</td>\n",
       "      <td>0.472560</td>\n",
       "      <td>0.527440</td>\n",
       "    </tr>\n",
       "    <tr>\n",
       "      <th>56743</th>\n",
       "      <td>2018-11-30</td>\n",
       "      <td>-0.073</td>\n",
       "      <td>1.0</td>\n",
       "      <td>0.472666</td>\n",
       "      <td>0.527334</td>\n",
       "    </tr>\n",
       "  </tbody>\n",
       "</table>\n",
       "<p>12000 rows × 5 columns</p>\n",
       "</div>"
      ],
      "text/plain": [
       "             date  R1M_Usd  hard  probability_0  probability_1\n",
       "1271   2013-12-31   -0.055   1.0       0.394118       0.605882\n",
       "28623  2013-12-31    0.114   1.0       0.394824       0.605176\n",
       "64379  2013-12-31    0.080   1.0       0.397836       0.602164\n",
       "34486  2013-12-31   -0.035   1.0       0.411254       0.588746\n",
       "51090  2013-12-31    0.033   1.0       0.412173       0.587827\n",
       "...           ...      ...   ...            ...            ...\n",
       "63821  2018-11-30   -0.206   1.0       0.472301       0.527699\n",
       "11857  2018-11-30   -0.155   1.0       0.472338       0.527662\n",
       "32520  2018-11-30   -0.313   1.0       0.472515       0.527485\n",
       "31282  2018-11-30   -0.100   1.0       0.472560       0.527440\n",
       "56743  2018-11-30   -0.073   1.0       0.472666       0.527334\n",
       "\n",
       "[12000 rows x 5 columns]"
      ]
     },
     "execution_count": null,
     "metadata": {},
     "output_type": "execute_result"
    }
   ],
   "source": [
    "lst_trades = []\n",
    "for ix_date in rebalance_dates:\n",
    "    df = df_screen.query(\"date == @ix_date\").sort_values(by=\"probability_1\", ascending=False).head(200).copy()\n",
    "    lst_trades.append(df)\n",
    "df_trades = pd.concat(lst_trades)\n",
    "df_trades"
   ]
  },
  {
   "cell_type": "code",
   "execution_count": null,
   "id": "cf7266a9-aeed-45a3-addb-d68c284f9e21",
   "metadata": {},
   "outputs": [],
   "source": [
    "df_top_200_all_features_monthly_returns = df_trades.groupby(\"date\")[[\"R1M_Usd\"]].mean().reset_index()\n",
    "df_top_200_all_features_monthly_returns['growth_factor'] = 1 + df_top_200_all_features_monthly_returns['R1M_Usd']\n",
    "df_top_200_all_features_monthly_returns['equity_curve'] = df_top_200_all_features_monthly_returns['growth_factor'].cumprod()"
   ]
  },
  {
   "cell_type": "code",
   "execution_count": null,
   "id": "362ebbac-0c6f-4ca1-8edb-685499914606",
   "metadata": {},
   "outputs": [
    {
     "data": {
      "text/plain": [
       "0.1344945032814202"
      ]
     },
     "execution_count": null,
     "metadata": {},
     "output_type": "execute_result"
    }
   ],
   "source": [
    "((df_top_200_all_features_monthly_returns['equity_curve'].iloc[-1]) ** (12 / len(df_top_200_all_features_monthly_returns))) - 1"
   ]
  },
  {
   "cell_type": "code",
   "execution_count": null,
   "id": "ac15187b-d51e-4865-ba9f-1487fe6638fa",
   "metadata": {},
   "outputs": [
    {
     "data": {
      "text/plain": [
       "0.7392758913232144"
      ]
     },
     "execution_count": null,
     "metadata": {},
     "output_type": "execute_result"
    }
   ],
   "source": [
    "(df_top_200_all_features_monthly_returns[\"R1M_Usd\"].mean() / df_top_200_all_features_monthly_returns[\"R1M_Usd\"].std()) * np.sqrt(12)"
   ]
  },
  {
   "cell_type": "markdown",
   "id": "fcff4c7a-53a0-47ef-ac01-1856a2ea104f",
   "metadata": {},
   "source": [
    "## Backtesting Top-200 Strategy with Selected Features"
   ]
  },
  {
   "cell_type": "code",
   "execution_count": null,
   "id": "7b843fa3-6165-4416-8235-997b943c981f",
   "metadata": {},
   "outputs": [],
   "source": [
    "df_screen = df_test[[\"date\", \"R1M_Usd\"]].copy().reset_index(drop=True)"
   ]
  },
  {
   "cell_type": "code",
   "execution_count": null,
   "id": "e7564240-936f-49c6-854b-5e275b0d36ef",
   "metadata": {},
   "outputs": [
    {
     "data": {
      "text/html": [
       "<div>\n",
       "<style scoped>\n",
       "    .dataframe tbody tr th:only-of-type {\n",
       "        vertical-align: middle;\n",
       "    }\n",
       "\n",
       "    .dataframe tbody tr th {\n",
       "        vertical-align: top;\n",
       "    }\n",
       "\n",
       "    .dataframe thead th {\n",
       "        text-align: right;\n",
       "    }\n",
       "</style>\n",
       "<table border=\"1\" class=\"dataframe\">\n",
       "  <thead>\n",
       "    <tr style=\"text-align: right;\">\n",
       "      <th></th>\n",
       "      <th>date</th>\n",
       "      <th>R1M_Usd</th>\n",
       "      <th>hard</th>\n",
       "      <th>probability_0</th>\n",
       "      <th>probability_1</th>\n",
       "    </tr>\n",
       "  </thead>\n",
       "  <tbody>\n",
       "    <tr>\n",
       "      <th>0</th>\n",
       "      <td>2015-03-31</td>\n",
       "      <td>0.174</td>\n",
       "      <td>1.0</td>\n",
       "      <td>0.469486</td>\n",
       "      <td>0.530514</td>\n",
       "    </tr>\n",
       "    <tr>\n",
       "      <th>1</th>\n",
       "      <td>2015-04-30</td>\n",
       "      <td>-0.106</td>\n",
       "      <td>1.0</td>\n",
       "      <td>0.469902</td>\n",
       "      <td>0.530098</td>\n",
       "    </tr>\n",
       "    <tr>\n",
       "      <th>2</th>\n",
       "      <td>2015-05-31</td>\n",
       "      <td>-0.185</td>\n",
       "      <td>1.0</td>\n",
       "      <td>0.468476</td>\n",
       "      <td>0.531524</td>\n",
       "    </tr>\n",
       "    <tr>\n",
       "      <th>3</th>\n",
       "      <td>2015-06-30</td>\n",
       "      <td>-0.418</td>\n",
       "      <td>1.0</td>\n",
       "      <td>0.475378</td>\n",
       "      <td>0.524622</td>\n",
       "    </tr>\n",
       "    <tr>\n",
       "      <th>4</th>\n",
       "      <td>2015-07-31</td>\n",
       "      <td>0.575</td>\n",
       "      <td>1.0</td>\n",
       "      <td>0.471177</td>\n",
       "      <td>0.528823</td>\n",
       "    </tr>\n",
       "    <tr>\n",
       "      <th>...</th>\n",
       "      <td>...</td>\n",
       "      <td>...</td>\n",
       "      <td>...</td>\n",
       "      <td>...</td>\n",
       "      <td>...</td>\n",
       "    </tr>\n",
       "    <tr>\n",
       "      <th>70484</th>\n",
       "      <td>2018-07-31</td>\n",
       "      <td>0.028</td>\n",
       "      <td>0.0</td>\n",
       "      <td>0.527576</td>\n",
       "      <td>0.472424</td>\n",
       "    </tr>\n",
       "    <tr>\n",
       "      <th>70485</th>\n",
       "      <td>2018-08-31</td>\n",
       "      <td>-0.101</td>\n",
       "      <td>0.0</td>\n",
       "      <td>0.531423</td>\n",
       "      <td>0.468577</td>\n",
       "    </tr>\n",
       "    <tr>\n",
       "      <th>70486</th>\n",
       "      <td>2018-09-30</td>\n",
       "      <td>0.013</td>\n",
       "      <td>0.0</td>\n",
       "      <td>0.516458</td>\n",
       "      <td>0.483542</td>\n",
       "    </tr>\n",
       "    <tr>\n",
       "      <th>70487</th>\n",
       "      <td>2018-10-31</td>\n",
       "      <td>0.039</td>\n",
       "      <td>0.0</td>\n",
       "      <td>0.509134</td>\n",
       "      <td>0.490866</td>\n",
       "    </tr>\n",
       "    <tr>\n",
       "      <th>70488</th>\n",
       "      <td>2018-11-30</td>\n",
       "      <td>-0.151</td>\n",
       "      <td>0.0</td>\n",
       "      <td>0.518961</td>\n",
       "      <td>0.481039</td>\n",
       "    </tr>\n",
       "  </tbody>\n",
       "</table>\n",
       "<p>70489 rows × 5 columns</p>\n",
       "</div>"
      ],
      "text/plain": [
       "             date  R1M_Usd  hard  probability_0  probability_1\n",
       "0      2015-03-31    0.174   1.0       0.469486       0.530514\n",
       "1      2015-04-30   -0.106   1.0       0.469902       0.530098\n",
       "2      2015-05-31   -0.185   1.0       0.468476       0.531524\n",
       "3      2015-06-30   -0.418   1.0       0.475378       0.524622\n",
       "4      2015-07-31    0.575   1.0       0.471177       0.528823\n",
       "...           ...      ...   ...            ...            ...\n",
       "70484  2018-07-31    0.028   0.0       0.527576       0.472424\n",
       "70485  2018-08-31   -0.101   0.0       0.531423       0.468577\n",
       "70486  2018-09-30    0.013   0.0       0.516458       0.483542\n",
       "70487  2018-10-31    0.039   0.0       0.509134       0.490866\n",
       "70488  2018-11-30   -0.151   0.0       0.518961       0.481039\n",
       "\n",
       "[70489 rows x 5 columns]"
      ]
     },
     "execution_count": null,
     "metadata": {},
     "output_type": "execute_result"
    }
   ],
   "source": [
    "df_screen = pd.concat([df_screen, df_inferences_selected_features], axis=1)\n",
    "df_screen"
   ]
  },
  {
   "cell_type": "code",
   "execution_count": null,
   "id": "0972cfaf-848c-4936-ba7a-46b5c77058c2",
   "metadata": {},
   "outputs": [],
   "source": [
    "rebalance_dates = list(np.sort(df_screen[\"date\"].unique()))"
   ]
  },
  {
   "cell_type": "code",
   "execution_count": null,
   "id": "40e5297a-aa8f-4eb3-90a9-b7bcec41b3e4",
   "metadata": {},
   "outputs": [
    {
     "data": {
      "text/html": [
       "<div>\n",
       "<style scoped>\n",
       "    .dataframe tbody tr th:only-of-type {\n",
       "        vertical-align: middle;\n",
       "    }\n",
       "\n",
       "    .dataframe tbody tr th {\n",
       "        vertical-align: top;\n",
       "    }\n",
       "\n",
       "    .dataframe thead th {\n",
       "        text-align: right;\n",
       "    }\n",
       "</style>\n",
       "<table border=\"1\" class=\"dataframe\">\n",
       "  <thead>\n",
       "    <tr style=\"text-align: right;\">\n",
       "      <th></th>\n",
       "      <th>date</th>\n",
       "      <th>R1M_Usd</th>\n",
       "      <th>hard</th>\n",
       "      <th>probability_0</th>\n",
       "      <th>probability_1</th>\n",
       "    </tr>\n",
       "  </thead>\n",
       "  <tbody>\n",
       "    <tr>\n",
       "      <th>28623</th>\n",
       "      <td>2013-12-31</td>\n",
       "      <td>0.114</td>\n",
       "      <td>1.0</td>\n",
       "      <td>0.395729</td>\n",
       "      <td>0.604271</td>\n",
       "    </tr>\n",
       "    <tr>\n",
       "      <th>50794</th>\n",
       "      <td>2013-12-31</td>\n",
       "      <td>-0.084</td>\n",
       "      <td>1.0</td>\n",
       "      <td>0.400473</td>\n",
       "      <td>0.599527</td>\n",
       "    </tr>\n",
       "    <tr>\n",
       "      <th>51090</th>\n",
       "      <td>2013-12-31</td>\n",
       "      <td>0.033</td>\n",
       "      <td>1.0</td>\n",
       "      <td>0.412809</td>\n",
       "      <td>0.587191</td>\n",
       "    </tr>\n",
       "    <tr>\n",
       "      <th>64379</th>\n",
       "      <td>2013-12-31</td>\n",
       "      <td>0.080</td>\n",
       "      <td>1.0</td>\n",
       "      <td>0.416037</td>\n",
       "      <td>0.583963</td>\n",
       "    </tr>\n",
       "    <tr>\n",
       "      <th>14882</th>\n",
       "      <td>2013-12-31</td>\n",
       "      <td>0.063</td>\n",
       "      <td>1.0</td>\n",
       "      <td>0.422220</td>\n",
       "      <td>0.577780</td>\n",
       "    </tr>\n",
       "    <tr>\n",
       "      <th>...</th>\n",
       "      <td>...</td>\n",
       "      <td>...</td>\n",
       "      <td>...</td>\n",
       "      <td>...</td>\n",
       "      <td>...</td>\n",
       "    </tr>\n",
       "    <tr>\n",
       "      <th>13433</th>\n",
       "      <td>2018-11-30</td>\n",
       "      <td>-0.036</td>\n",
       "      <td>1.0</td>\n",
       "      <td>0.473852</td>\n",
       "      <td>0.526148</td>\n",
       "    </tr>\n",
       "    <tr>\n",
       "      <th>7269</th>\n",
       "      <td>2018-11-30</td>\n",
       "      <td>-0.083</td>\n",
       "      <td>1.0</td>\n",
       "      <td>0.473982</td>\n",
       "      <td>0.526018</td>\n",
       "    </tr>\n",
       "    <tr>\n",
       "      <th>16075</th>\n",
       "      <td>2018-11-30</td>\n",
       "      <td>-0.144</td>\n",
       "      <td>1.0</td>\n",
       "      <td>0.474062</td>\n",
       "      <td>0.525938</td>\n",
       "    </tr>\n",
       "    <tr>\n",
       "      <th>31932</th>\n",
       "      <td>2018-11-30</td>\n",
       "      <td>-0.169</td>\n",
       "      <td>1.0</td>\n",
       "      <td>0.474307</td>\n",
       "      <td>0.525693</td>\n",
       "    </tr>\n",
       "    <tr>\n",
       "      <th>52712</th>\n",
       "      <td>2018-11-30</td>\n",
       "      <td>-0.267</td>\n",
       "      <td>1.0</td>\n",
       "      <td>0.474607</td>\n",
       "      <td>0.525393</td>\n",
       "    </tr>\n",
       "  </tbody>\n",
       "</table>\n",
       "<p>12000 rows × 5 columns</p>\n",
       "</div>"
      ],
      "text/plain": [
       "             date  R1M_Usd  hard  probability_0  probability_1\n",
       "28623  2013-12-31    0.114   1.0       0.395729       0.604271\n",
       "50794  2013-12-31   -0.084   1.0       0.400473       0.599527\n",
       "51090  2013-12-31    0.033   1.0       0.412809       0.587191\n",
       "64379  2013-12-31    0.080   1.0       0.416037       0.583963\n",
       "14882  2013-12-31    0.063   1.0       0.422220       0.577780\n",
       "...           ...      ...   ...            ...            ...\n",
       "13433  2018-11-30   -0.036   1.0       0.473852       0.526148\n",
       "7269   2018-11-30   -0.083   1.0       0.473982       0.526018\n",
       "16075  2018-11-30   -0.144   1.0       0.474062       0.525938\n",
       "31932  2018-11-30   -0.169   1.0       0.474307       0.525693\n",
       "52712  2018-11-30   -0.267   1.0       0.474607       0.525393\n",
       "\n",
       "[12000 rows x 5 columns]"
      ]
     },
     "execution_count": null,
     "metadata": {},
     "output_type": "execute_result"
    }
   ],
   "source": [
    "lst_trades = []\n",
    "for ix_date in rebalance_dates:\n",
    "    df = df_screen.query(\"date == @ix_date\").sort_values(by=\"probability_1\", ascending=False).head(200).copy()\n",
    "    lst_trades.append(df)\n",
    "df_trades = pd.concat(lst_trades)\n",
    "df_trades"
   ]
  },
  {
   "cell_type": "code",
   "execution_count": null,
   "id": "8c1e977b-ebf0-445b-98dc-172eda0e9d88",
   "metadata": {},
   "outputs": [],
   "source": [
    "df_top_200_selected_features_monthly_returns = df_trades.groupby(\"date\")[[\"R1M_Usd\"]].mean().reset_index()\n",
    "df_top_200_selected_features_monthly_returns['growth_factor'] = 1 + df_top_200_selected_features_monthly_returns['R1M_Usd']\n",
    "df_top_200_selected_features_monthly_returns['equity_curve'] = df_top_200_selected_features_monthly_returns['growth_factor'].cumprod()"
   ]
  },
  {
   "cell_type": "code",
   "execution_count": null,
   "id": "38ccba5f-9966-4cfa-8de4-3549023ad686",
   "metadata": {},
   "outputs": [
    {
     "data": {
      "text/plain": [
       "0.15969790374333703"
      ]
     },
     "execution_count": null,
     "metadata": {},
     "output_type": "execute_result"
    }
   ],
   "source": [
    "((df_top_200_selected_features_monthly_returns['equity_curve'].iloc[-1]) ** (12 / len(df_top_200_selected_features_monthly_returns))) - 1"
   ]
  },
  {
   "cell_type": "code",
   "execution_count": null,
   "id": "c5da8f77-29d1-4322-8423-c19b4f56898b",
   "metadata": {},
   "outputs": [
    {
     "data": {
      "text/plain": [
       "0.8443428473551822"
      ]
     },
     "execution_count": null,
     "metadata": {},
     "output_type": "execute_result"
    }
   ],
   "source": [
    "(df_top_200_selected_features_monthly_returns[\"R1M_Usd\"].mean() / df_top_200_selected_features_monthly_returns[\"R1M_Usd\"].std()) * np.sqrt(12)"
   ]
  }
 ],
 "metadata": {
  "kernelspec": {
   "display_name": "python3",
   "language": "python",
   "name": "python3"
  }
 },
 "nbformat": 4,
 "nbformat_minor": 5
}
