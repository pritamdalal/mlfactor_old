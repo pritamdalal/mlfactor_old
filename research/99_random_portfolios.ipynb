{
 "cells": [
  {
   "cell_type": "markdown",
   "id": "fe2aa916-2569-49e0-a5f2-478330cde6c9",
   "metadata": {},
   "source": [
    "## Importing Packages"
   ]
  },
  {
   "cell_type": "code",
   "execution_count": null,
   "id": "7bae1e0d-7450-426e-8429-ba2f3c7c6405",
   "metadata": {},
   "outputs": [],
   "source": [
    "import numpy as np\n",
    "import pandas as pd"
   ]
  },
  {
   "cell_type": "markdown",
   "id": "d10fdff4-2b88-4d15-abe6-5483b9791136",
   "metadata": {},
   "source": [
    "## Reading and Separating Data"
   ]
  },
  {
   "cell_type": "code",
   "execution_count": null,
   "id": "e449ca7e-82a7-4dac-adf5-181edc30310f",
   "metadata": {},
   "outputs": [],
   "source": [
    "df_ml = pd.read_csv(\"../data/data_ml.csv\")"
   ]
  },
  {
   "cell_type": "code",
   "execution_count": null,
   "id": "4bb7086b-1f1a-42b1-abad-3c7b2547ded5",
   "metadata": {},
   "outputs": [],
   "source": [
    "separation_date = \"2013-12-31\"\n",
    "df_train = df_ml.query(\"date < @separation_date\").copy()\n",
    "df_test = df_ml.query(\"@separation_date <= date & date < '2018-12-31'\").copy()"
   ]
  },
  {
   "cell_type": "code",
   "execution_count": null,
   "id": "bc52997e-12f8-410d-bd56-8f54d8baf161",
   "metadata": {},
   "outputs": [],
   "source": [
    "columns_to_drop = [\n",
    "    \"stock_id\", \"date\", # non-feature identifiers\n",
    "    \"R1M_Usd\", \"R3M_Usd\", \"R6M_Usd\", \"R12M_Usd\", # numerical labels\n",
    "    \"R1M_Usd_C\", \"R12M_Usd_C\" # categorical labels\n",
    "]\n",
    "\n",
    "features = list(df_ml.drop(columns=columns_to_drop).columns)"
   ]
  },
  {
   "cell_type": "code",
   "execution_count": null,
   "id": "07ea5fe9-e981-4b1f-872f-d00a2f6c726f",
   "metadata": {},
   "outputs": [],
   "source": [
    "X_train = df_train[features]\n",
    "y_train = df_train[\"R1M_Usd_C\"]"
   ]
  },
  {
   "cell_type": "code",
   "execution_count": null,
   "id": "0fbe4db7-b9f5-481d-a93f-7a92f950e1b4",
   "metadata": {},
   "outputs": [],
   "source": [
    "X_test = df_test[features]\n",
    "y_test = df_test[\"R1M_Usd_C\"]"
   ]
  },
  {
   "cell_type": "code",
   "execution_count": null,
   "id": "e8b98a2e-ae19-412b-a75b-65c1adea0f4f",
   "metadata": {},
   "outputs": [],
   "source": [
    "df_features_selected = pd.read_csv(\"../data/features_selected.csv\")\n",
    "features_selected = list(df_features_selected[\"feature\"].values)"
   ]
  },
  {
   "cell_type": "code",
   "execution_count": null,
   "id": "e84a114c-03e6-40a3-a286-bf5cf7fba3c1",
   "metadata": {},
   "outputs": [],
   "source": [
    "df_screen = df_test[[\"date\", \"R1M_Usd\"]].copy().reset_index(drop=True)"
   ]
  },
  {
   "cell_type": "code",
   "execution_count": null,
   "id": "cad1fc1c-d856-4038-b8c4-10854b7c4f62",
   "metadata": {},
   "outputs": [],
   "source": [
    "rebalance_dates = list(np.sort(df_screen[\"date\"].unique()))"
   ]
  },
  {
   "cell_type": "code",
   "execution_count": null,
   "id": "c8750fca-0928-41a3-96f8-05aa60849cb9",
   "metadata": {},
   "outputs": [
    {
     "data": {
      "text/html": [
       "<div>\n",
       "<style scoped>\n",
       "    .dataframe tbody tr th:only-of-type {\n",
       "        vertical-align: middle;\n",
       "    }\n",
       "\n",
       "    .dataframe tbody tr th {\n",
       "        vertical-align: top;\n",
       "    }\n",
       "\n",
       "    .dataframe thead th {\n",
       "        text-align: right;\n",
       "    }\n",
       "</style>\n",
       "<table border=\"1\" class=\"dataframe\">\n",
       "  <thead>\n",
       "    <tr style=\"text-align: right;\">\n",
       "      <th></th>\n",
       "      <th>date</th>\n",
       "      <th>R1M_Usd</th>\n",
       "    </tr>\n",
       "  </thead>\n",
       "  <tbody>\n",
       "    <tr>\n",
       "      <th>0</th>\n",
       "      <td>2015-03-31</td>\n",
       "      <td>0.174</td>\n",
       "    </tr>\n",
       "    <tr>\n",
       "      <th>1</th>\n",
       "      <td>2015-04-30</td>\n",
       "      <td>-0.106</td>\n",
       "    </tr>\n",
       "    <tr>\n",
       "      <th>2</th>\n",
       "      <td>2015-05-31</td>\n",
       "      <td>-0.185</td>\n",
       "    </tr>\n",
       "    <tr>\n",
       "      <th>3</th>\n",
       "      <td>2015-06-30</td>\n",
       "      <td>-0.418</td>\n",
       "    </tr>\n",
       "    <tr>\n",
       "      <th>4</th>\n",
       "      <td>2015-07-31</td>\n",
       "      <td>0.575</td>\n",
       "    </tr>\n",
       "    <tr>\n",
       "      <th>...</th>\n",
       "      <td>...</td>\n",
       "      <td>...</td>\n",
       "    </tr>\n",
       "    <tr>\n",
       "      <th>70484</th>\n",
       "      <td>2018-07-31</td>\n",
       "      <td>0.028</td>\n",
       "    </tr>\n",
       "    <tr>\n",
       "      <th>70485</th>\n",
       "      <td>2018-08-31</td>\n",
       "      <td>-0.101</td>\n",
       "    </tr>\n",
       "    <tr>\n",
       "      <th>70486</th>\n",
       "      <td>2018-09-30</td>\n",
       "      <td>0.013</td>\n",
       "    </tr>\n",
       "    <tr>\n",
       "      <th>70487</th>\n",
       "      <td>2018-10-31</td>\n",
       "      <td>0.039</td>\n",
       "    </tr>\n",
       "    <tr>\n",
       "      <th>70488</th>\n",
       "      <td>2018-11-30</td>\n",
       "      <td>-0.151</td>\n",
       "    </tr>\n",
       "  </tbody>\n",
       "</table>\n",
       "<p>70489 rows × 2 columns</p>\n",
       "</div>"
      ],
      "text/plain": [
       "             date  R1M_Usd\n",
       "0      2015-03-31    0.174\n",
       "1      2015-04-30   -0.106\n",
       "2      2015-05-31   -0.185\n",
       "3      2015-06-30   -0.418\n",
       "4      2015-07-31    0.575\n",
       "...           ...      ...\n",
       "70484  2018-07-31    0.028\n",
       "70485  2018-08-31   -0.101\n",
       "70486  2018-09-30    0.013\n",
       "70487  2018-10-31    0.039\n",
       "70488  2018-11-30   -0.151\n",
       "\n",
       "[70489 rows x 2 columns]"
      ]
     },
     "execution_count": null,
     "metadata": {},
     "output_type": "execute_result"
    }
   ],
   "source": [
    "df_screen"
   ]
  },
  {
   "cell_type": "code",
   "execution_count": null,
   "id": "7c0e24a7-6e93-496c-9f46-4fd8ae478e73",
   "metadata": {},
   "outputs": [
    {
     "data": {
      "text/html": [
       "<div>\n",
       "<style scoped>\n",
       "    .dataframe tbody tr th:only-of-type {\n",
       "        vertical-align: middle;\n",
       "    }\n",
       "\n",
       "    .dataframe tbody tr th {\n",
       "        vertical-align: top;\n",
       "    }\n",
       "\n",
       "    .dataframe thead th {\n",
       "        text-align: right;\n",
       "    }\n",
       "</style>\n",
       "<table border=\"1\" class=\"dataframe\">\n",
       "  <thead>\n",
       "    <tr style=\"text-align: right;\">\n",
       "      <th></th>\n",
       "      <th>date</th>\n",
       "      <th>R1M_Usd</th>\n",
       "    </tr>\n",
       "  </thead>\n",
       "  <tbody>\n",
       "    <tr>\n",
       "      <th>10727</th>\n",
       "      <td>2018-11-30</td>\n",
       "      <td>-0.140</td>\n",
       "    </tr>\n",
       "    <tr>\n",
       "      <th>791</th>\n",
       "      <td>2018-11-30</td>\n",
       "      <td>-0.171</td>\n",
       "    </tr>\n",
       "    <tr>\n",
       "      <th>59318</th>\n",
       "      <td>2018-11-30</td>\n",
       "      <td>-0.113</td>\n",
       "    </tr>\n",
       "    <tr>\n",
       "      <th>20060</th>\n",
       "      <td>2018-11-30</td>\n",
       "      <td>-0.033</td>\n",
       "    </tr>\n",
       "    <tr>\n",
       "      <th>2508</th>\n",
       "      <td>2018-11-30</td>\n",
       "      <td>-0.135</td>\n",
       "    </tr>\n",
       "    <tr>\n",
       "      <th>...</th>\n",
       "      <td>...</td>\n",
       "      <td>...</td>\n",
       "    </tr>\n",
       "    <tr>\n",
       "      <th>66815</th>\n",
       "      <td>2018-11-30</td>\n",
       "      <td>-0.074</td>\n",
       "    </tr>\n",
       "    <tr>\n",
       "      <th>31423</th>\n",
       "      <td>2018-11-30</td>\n",
       "      <td>-0.070</td>\n",
       "    </tr>\n",
       "    <tr>\n",
       "      <th>16075</th>\n",
       "      <td>2018-11-30</td>\n",
       "      <td>-0.144</td>\n",
       "    </tr>\n",
       "    <tr>\n",
       "      <th>9362</th>\n",
       "      <td>2018-11-30</td>\n",
       "      <td>-0.088</td>\n",
       "    </tr>\n",
       "    <tr>\n",
       "      <th>17792</th>\n",
       "      <td>2018-11-30</td>\n",
       "      <td>-0.127</td>\n",
       "    </tr>\n",
       "  </tbody>\n",
       "</table>\n",
       "<p>200 rows × 2 columns</p>\n",
       "</div>"
      ],
      "text/plain": [
       "             date  R1M_Usd\n",
       "10727  2018-11-30   -0.140\n",
       "791    2018-11-30   -0.171\n",
       "59318  2018-11-30   -0.113\n",
       "20060  2018-11-30   -0.033\n",
       "2508   2018-11-30   -0.135\n",
       "...           ...      ...\n",
       "66815  2018-11-30   -0.074\n",
       "31423  2018-11-30   -0.070\n",
       "16075  2018-11-30   -0.144\n",
       "9362   2018-11-30   -0.088\n",
       "17792  2018-11-30   -0.127\n",
       "\n",
       "[200 rows x 2 columns]"
      ]
     },
     "execution_count": null,
     "metadata": {},
     "output_type": "execute_result"
    }
   ],
   "source": [
    "ix_date = '2018-11-30'\n",
    "df_screen.query(\"date == @ix_date\").sample(n=200, axis=0)"
   ]
  },
  {
   "cell_type": "code",
   "execution_count": null,
   "id": "ee60bd66-0975-4ad8-a450-69c19e1ce41f",
   "metadata": {},
   "outputs": [],
   "source": [
    "annual_returns = []\n",
    "for _ in range(1000):\n",
    "    lst_trades = []\n",
    "    for ix_date in rebalance_dates:\n",
    "        df = df_screen.query(\"date == @ix_date\").sample(n=200, axis=0).copy()\n",
    "        lst_trades.append(df)\n",
    "    df_trades = pd.concat(lst_trades)\n",
    "    df_monthly_returns = df_trades.groupby(\"date\")[[\"R1M_Usd\"]].mean().reset_index()\n",
    "    df_monthly_returns['growth_factor'] = 1 + df_monthly_returns['R1M_Usd']\n",
    "    df_monthly_returns['equity_curve'] = df_monthly_returns['growth_factor'].cumprod()\n",
    "    ann_ret = ((df_monthly_returns['equity_curve'].iloc[-1]) ** (12 / len(df_monthly_returns))) - 1\n",
    "    annual_returns.append(ann_ret)"
   ]
  },
  {
   "cell_type": "code",
   "execution_count": null,
   "id": "3bd18a0a-2dd3-4a52-944d-ddb26c7bc941",
   "metadata": {},
   "outputs": [],
   "source": [
    "import seaborn as sns"
   ]
  },
  {
   "cell_type": "code",
   "execution_count": null,
   "id": "d7fff3eb-1b09-43fe-b5ea-e051e06e3b3f",
   "metadata": {},
   "outputs": [
    {
     "data": {
      "text/plain": [
       "<Axes: ylabel='Count'>"
      ]
     },
     "execution_count": null,
     "metadata": {},
     "output_type": "execute_result"
    },
    {
     "data": {
      "image/png": "[encoded data removed]",
      "text/plain": [
       "<Figure size 640x480 with 1 Axes>"
      ]
     },
     "metadata": {},
     "output_type": "display_data"
    }
   ],
   "source": [
    "sns.histplot(np.array(annual_returns), bins=100)"
   ]
  },
  {
   "cell_type": "code",
   "execution_count": null,
   "id": "b0437988-a399-4410-9bb8-582112d5542a",
   "metadata": {},
   "outputs": [
    {
     "data": {
      "text/html": [
       "<div>\n",
       "<style scoped>\n",
       "    .dataframe tbody tr th:only-of-type {\n",
       "        vertical-align: middle;\n",
       "    }\n",
       "\n",
       "    .dataframe tbody tr th {\n",
       "        vertical-align: top;\n",
       "    }\n",
       "\n",
       "    .dataframe thead th {\n",
       "        text-align: right;\n",
       "    }\n",
       "</style>\n",
       "<table border=\"1\" class=\"dataframe\">\n",
       "  <thead>\n",
       "    <tr style=\"text-align: right;\">\n",
       "      <th></th>\n",
       "      <th>portfolio</th>\n",
       "      <th>returns</th>\n",
       "    </tr>\n",
       "  </thead>\n",
       "  <tbody>\n",
       "    <tr>\n",
       "      <th>count</th>\n",
       "      <td>1000.000000</td>\n",
       "      <td>1000.000000</td>\n",
       "    </tr>\n",
       "    <tr>\n",
       "      <th>mean</th>\n",
       "      <td>499.500000</td>\n",
       "      <td>0.080078</td>\n",
       "    </tr>\n",
       "    <tr>\n",
       "      <th>std</th>\n",
       "      <td>288.819436</td>\n",
       "      <td>0.019941</td>\n",
       "    </tr>\n",
       "    <tr>\n",
       "      <th>min</th>\n",
       "      <td>0.000000</td>\n",
       "      <td>0.036929</td>\n",
       "    </tr>\n",
       "    <tr>\n",
       "      <th>1%</th>\n",
       "      <td>9.990000</td>\n",
       "      <td>0.044738</td>\n",
       "    </tr>\n",
       "    <tr>\n",
       "      <th>5%</th>\n",
       "      <td>49.950000</td>\n",
       "      <td>0.053178</td>\n",
       "    </tr>\n",
       "    <tr>\n",
       "      <th>10%</th>\n",
       "      <td>99.900000</td>\n",
       "      <td>0.057390</td>\n",
       "    </tr>\n",
       "    <tr>\n",
       "      <th>25%</th>\n",
       "      <td>249.750000</td>\n",
       "      <td>0.064976</td>\n",
       "    </tr>\n",
       "    <tr>\n",
       "      <th>50%</th>\n",
       "      <td>499.500000</td>\n",
       "      <td>0.076924</td>\n",
       "    </tr>\n",
       "    <tr>\n",
       "      <th>75%</th>\n",
       "      <td>749.250000</td>\n",
       "      <td>0.092146</td>\n",
       "    </tr>\n",
       "    <tr>\n",
       "      <th>90%</th>\n",
       "      <td>899.100000</td>\n",
       "      <td>0.109125</td>\n",
       "    </tr>\n",
       "    <tr>\n",
       "      <th>95%</th>\n",
       "      <td>949.050000</td>\n",
       "      <td>0.115602</td>\n",
       "    </tr>\n",
       "    <tr>\n",
       "      <th>99%</th>\n",
       "      <td>989.010000</td>\n",
       "      <td>0.134463</td>\n",
       "    </tr>\n",
       "    <tr>\n",
       "      <th>max</th>\n",
       "      <td>999.000000</td>\n",
       "      <td>0.166622</td>\n",
       "    </tr>\n",
       "  </tbody>\n",
       "</table>\n",
       "</div>"
      ],
      "text/plain": [
       "         portfolio      returns\n",
       "count  1000.000000  1000.000000\n",
       "mean    499.500000     0.080078\n",
       "std     288.819436     0.019941\n",
       "min       0.000000     0.036929\n",
       "1%        9.990000     0.044738\n",
       "5%       49.950000     0.053178\n",
       "10%      99.900000     0.057390\n",
       "25%     249.750000     0.064976\n",
       "50%     499.500000     0.076924\n",
       "75%     749.250000     0.092146\n",
       "90%     899.100000     0.109125\n",
       "95%     949.050000     0.115602\n",
       "99%     989.010000     0.134463\n",
       "max     999.000000     0.166622"
      ]
     },
     "execution_count": null,
     "metadata": {},
     "output_type": "execute_result"
    }
   ],
   "source": [
    "df_random_portfolio_returns = pd.DataFrame({\n",
    "    \"portfolio\": range(1000),\n",
    "    \"returns\":annual_returns\n",
    "})\n",
    "\n",
    "df_random_portfolio_returns.describe(percentiles=[0.01, 0.05, 0.10, 0.25, 0.50, 0.75, 0.90, 0.95, 0.99])"
   ]
  },
  {
   "cell_type": "code",
   "execution_count": null,
   "id": "232454c4-ed31-4006-99f2-d235b511b190",
   "metadata": {},
   "outputs": [],
   "source": [
    "df_random_portfolio_returns.to_csv(\"../data/random_portfolio_200_securities_returns.csv\", index=False)"
   ]
  }
 ],
 "metadata": {
  "kernelspec": {
   "display_name": "python3",
   "language": "python",
   "name": "python3"
  }
 },
 "nbformat": 4,
 "nbformat_minor": 5
}
